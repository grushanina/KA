{
  "nbformat": 4,
  "nbformat_minor": 0,
  "metadata": {
    "colab": {
      "name": "Prac_1.ipynb",
      "provenance": [],
      "authorship_tag": "ABX9TyPxCl+HxsbXcZdJonzwor61",
      "include_colab_link": true
    },
    "kernelspec": {
      "name": "python3",
      "display_name": "Python 3"
    }
  },
  "cells": [
    {
      "cell_type": "markdown",
      "metadata": {
        "id": "view-in-github",
        "colab_type": "text"
      },
      "source": [
        "<a href=\"https://colab.research.google.com/github/grushanina/KA/blob/main/Prac_1.ipynb\" target=\"_parent\"><img src=\"https://colab.research.google.com/assets/colab-badge.svg\" alt=\"Open In Colab\"/></a>"
      ]
    },
    {
      "cell_type": "code",
      "metadata": {
        "id": "PDmymY-a02h9"
      },
      "source": [
        "class Rational:\r\n",
        "  def __init__(self, a, b=1):\r\n",
        "    self.a=a\r\n",
        "    self.b=b\r\n",
        "\r\n",
        "  def __str__(self):\r\n",
        "    return str(self.a) + \"/\" + str(self.b)\r\n",
        "\r\n",
        "  def normalize(self):\r\n",
        "    if self.b<0:\r\n",
        "      self.b=self.b*(-1)\r\n",
        "      self.a=self.a*(-1)\r\n",
        "\r\n",
        "    x = self.a\r\n",
        "    y = self.b\r\n",
        "\r\n",
        "    if self.a < 0:    \r\n",
        "      x = self.a*(-1)\r\n",
        "    if self.b < 0:\r\n",
        "      y = self.b*(-1)\r\n",
        "      \r\n",
        "    while x!=0 and y!=0:\r\n",
        "      if x > y:\r\n",
        "        x = x % y\r\n",
        "      else:\r\n",
        "        y = y % x\r\n",
        "    self.a = int(self.a/(x+y))\r\n",
        "    self.b = int(self.b/(x+y))\r\n",
        "\r\n",
        "  def __add__(self, x):\r\n",
        "    return Rational(self.a * x.b + self.b * x.a, self.b * x.b)\r\n",
        "\r\n",
        "  def __sub__(self, x):\r\n",
        "    return Rational(self.a * x.b - self.b * x.a, self.b * x.b)\r\n",
        "\r\n",
        "  def __mul__(self, x):\r\n",
        "    return Rational(self.a * x.a, self.b*x.b)\r\n",
        "    \r\n",
        "  def __truediv__(self, x):\r\n",
        "    return Rational(self.a * x.b, self.b * x.a)\r\n",
        "  \r\n",
        "  def __pow__(self, x):\r\n",
        "    return Rational(self.a ** x, self.b ** x)\r\n",
        "\r\n",
        "  def __radd__(self, x):\r\n",
        "    return Rational(self.a * x.b + self.b * x.a, self.b * x.b)\r\n",
        "\r\n",
        "  def __rsub__(self, x):\r\n",
        "    return Rational(self.a * x.b - self.b * x.a, self.b * x.b)\r\n",
        "\r\n",
        "  def __rmul__(self, x):\r\n",
        "    return Rational(self.a * x.a, self.b*x.b)\r\n",
        "    \r\n",
        "  def __rtruediv__(self, x):\r\n",
        "    return Rational(self.a * x.b, self.b * x.a)\r\n",
        "\r\n",
        "  def __neg__(self):\r\n",
        "    return Rational(-self.a, self.b)\r\n",
        "\r\n",
        "  def __abs__(self):\r\n",
        "    return Rational(abs(self.a),abs(self.b))\r\n",
        "  \r\n",
        "  def __iadd__(self, x):\r\n",
        "    self.a = self.a * x.b + self.b * x.a\r\n",
        "    self.b =self.b * x.b\r\n",
        "    return self\r\n",
        "\r\n",
        "  def __isub__(self, x):\r\n",
        "    self.a = self.a * x.b - self.b * x.a\r\n",
        "    self.b = self.b * x.b\r\n",
        "    return self\r\n",
        "\r\n",
        "  def __imul__(self, x):\r\n",
        "    self.a = self.a * x.a\r\n",
        "    self.b = self.b*x.b\r\n",
        "    return self\r\n",
        "    \r\n",
        "  def __itruediv__(self, x):\r\n",
        "    self.a = self.a * x.b\r\n",
        "    self.b =  self.b * x.a\r\n",
        "    return self\r\n",
        "  \r\n",
        "  def __lt__(self, x):\r\n",
        "    return self.a*x.b < x.a * self.b\r\n",
        "  \r\n",
        "  def __le__(self, x):\r\n",
        "    return self.a*x.b <= x.a * self.b\r\n",
        "    \r\n",
        "  def __gt__(self, x):\r\n",
        "    return self.a*x.b > x.a * self.b\r\n",
        "  \r\n",
        "  def __ge__(self, x):\r\n",
        "    return self.a*x.b >= x.a * self.b\r\n",
        "    \r\n",
        "  def __eq__(self,x):\r\n",
        "    return self.a*x.b == x.a * self.b\r\n",
        "    \r\n",
        "  def __ne__(self,x):\r\n",
        "    return self.a*x.b != x.a * self.b\r\n",
        "  \r\n",
        "  def evalf(self):\r\n",
        "    return self.a//self.b\r\n",
        "\r\n",
        "  def mixf(self):\r\n",
        "    return self.a//self.b, Rational(self.a % self.b, self.b)"
      ],
      "execution_count": 75,
      "outputs": []
    },
    {
      "cell_type": "code",
      "metadata": {
        "colab": {
          "base_uri": "https://localhost:8080/"
        },
        "id": "ZHcPQBW13F-y",
        "outputId": "27650930-4270-4a01-baec-87a9d095dddc"
      },
      "source": [
        "drob = Rational(55,-120)\r\n",
        "print(str(drob))\r\n",
        "drob.normalize()\r\n",
        "print(str(drob))"
      ],
      "execution_count": null,
      "outputs": [
        {
          "output_type": "stream",
          "text": [
            "55/-120\n",
            "-11/24\n"
          ],
          "name": "stdout"
        }
      ]
    },
    {
      "cell_type": "code",
      "metadata": {
        "colab": {
          "base_uri": "https://localhost:8080/"
        },
        "id": "VX0TkvISslOn",
        "outputId": "ecf89fd0-88f4-4dec-fa37-44287a910a1b"
      },
      "source": [
        "drob1 = Rational(3,2)\r\n",
        "drob2 = Rational(2,5)\r\n",
        "print(drob1+drob2)\r\n",
        "print(drob1-drob2)\r\n",
        "print(drob1*drob2)\r\n",
        "print(drob1/drob2)\r\n",
        "print(drob1**3)\r\n",
        "print(-drob1)\r\n",
        "print(abs(-drob1))\r\n",
        "drob1/=drob2\r\n",
        "print(drob1)"
      ],
      "execution_count": 58,
      "outputs": [
        {
          "output_type": "stream",
          "text": [
            "19/10\n",
            "11/10\n",
            "6/10\n",
            "15/4\n",
            "27/8\n",
            "-3/2\n",
            "3/2\n",
            "15/4\n"
          ],
          "name": "stdout"
        }
      ]
    },
    {
      "cell_type": "code",
      "metadata": {
        "colab": {
          "base_uri": "https://localhost:8080/"
        },
        "id": "xNK0-6XI2q1P",
        "outputId": "eb9c057c-2116-4ebb-8429-5ded52c2bf3e"
      },
      "source": [
        "drob1 = Rational(3,2)\r\n",
        "drob2 = Rational(2,5)\r\n",
        "print(drob1<drob2)\r\n",
        "print(drob1<=drob2)\r\n",
        "print(drob1>drob2)\r\n",
        "print(drob1>=drob2)\r\n",
        "print(drob1==drob2)\r\n",
        "print(drob1!=drob2)"
      ],
      "execution_count": 66,
      "outputs": [
        {
          "output_type": "stream",
          "text": [
            "False\n",
            "False\n",
            "True\n",
            "True\n",
            "False\n",
            "True\n"
          ],
          "name": "stdout"
        }
      ]
    },
    {
      "cell_type": "code",
      "metadata": {
        "colab": {
          "base_uri": "https://localhost:8080/"
        },
        "id": "HoPI_RVM5mAA",
        "outputId": "7ffa0eb6-cf8b-4522-ee70-3f40fdb120c4"
      },
      "source": [
        "drob1 = Rational(3,2)\r\n",
        "print(drob1.evalf())\r\n",
        "i, r = drob1.mixf()\r\n",
        "print(i, r)"
      ],
      "execution_count": 79,
      "outputs": [
        {
          "output_type": "stream",
          "text": [
            "1\n",
            "1 1/2\n"
          ],
          "name": "stdout"
        }
      ]
    }
  ]
}