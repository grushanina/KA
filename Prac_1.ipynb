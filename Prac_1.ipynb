{
  "nbformat": 4,
  "nbformat_minor": 0,
  "metadata": {
    "colab": {
      "name": "Prac_1.ipynb",
      "provenance": [],
      "authorship_tag": "ABX9TyNZIshxdx/J99eWKo9I2aBR",
      "include_colab_link": true
    },
    "kernelspec": {
      "name": "python3",
      "display_name": "Python 3"
    }
  },
  "cells": [
    {
      "cell_type": "markdown",
      "metadata": {
        "id": "view-in-github",
        "colab_type": "text"
      },
      "source": [
        "<a href=\"https://colab.research.google.com/github/grushanina/KA/blob/main/Prac_1.ipynb\" target=\"_parent\"><img src=\"https://colab.research.google.com/assets/colab-badge.svg\" alt=\"Open In Colab\"/></a>"
      ]
    },
    {
      "cell_type": "code",
      "metadata": {
        "id": "PDmymY-a02h9"
      },
      "source": [
        "class Rational:\r\n",
        "  def __init__(self, a, b=1):\r\n",
        "    self.a=a\r\n",
        "    self.b=b\r\n",
        "  def __str__(self):\r\n",
        "    return str(self.a) + \"/\" + str(self.b)\r\n",
        "  def normalize(self):\r\n",
        "    if self.b<0:\r\n",
        "      self.b=self.b*(-1)\r\n",
        "      self.a=self.a*(-1)\r\n",
        "\r\n",
        "    x = self.a\r\n",
        "    y = self.b\r\n",
        "\r\n",
        "    if self.a < 0:    \r\n",
        "      x = self.a*(-1)\r\n",
        "    if self.b < 0:\r\n",
        "      y = self.b*(-1)\r\n",
        "      \r\n",
        "    while x!=0 and y!=0:\r\n",
        "      if x > y:\r\n",
        "        x = x % y\r\n",
        "      else:\r\n",
        "        y = y % x\r\n",
        "    self.a = int(self.a/(x+y))\r\n",
        "    self.b = int(self.b/(x+y))\r\n",
        "    "
      ],
      "execution_count": 1,
      "outputs": []
    },
    {
      "cell_type": "code",
      "metadata": {
        "colab": {
          "base_uri": "https://localhost:8080/"
        },
        "id": "ZHcPQBW13F-y",
        "outputId": "27650930-4270-4a01-baec-87a9d095dddc"
      },
      "source": [
        "drob = Rational(55,-120)\r\n",
        "print(str(drob))\r\n",
        "drob.normalize()\r\n",
        "print(str(drob))"
      ],
      "execution_count": 6,
      "outputs": [
        {
          "output_type": "stream",
          "text": [
            "55/-120\n",
            "-11/24\n"
          ],
          "name": "stdout"
        }
      ]
    }
  ]
}