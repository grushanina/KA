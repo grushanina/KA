{
  "nbformat": 4,
  "nbformat_minor": 0,
  "metadata": {
    "colab": {
      "name": "Prac_3/4.ipynb",
      "provenance": [],
      "collapsed_sections": [],
      "authorship_tag": "ABX9TyMkf5z+J6Hp8X6Zn0U3Ul+2",
      "include_colab_link": true
    },
    "kernelspec": {
      "name": "python3",
      "display_name": "Python 3"
    },
    "language_info": {
      "name": "python"
    }
  },
  "cells": [
    {
      "cell_type": "markdown",
      "metadata": {
        "id": "view-in-github",
        "colab_type": "text"
      },
      "source": [
        "<a href=\"https://colab.research.google.com/github/grushanina/KA/blob/main/Prac_3_4.ipynb\" target=\"_parent\"><img src=\"https://colab.research.google.com/assets/colab-badge.svg\" alt=\"Open In Colab\"/></a>"
      ]
    },
    {
      "cell_type": "code",
      "metadata": {
        "id": "ToBDF185dSPj"
      },
      "source": [
        "import math\n",
        "from IPython.display import display, Math"
      ],
      "execution_count": null,
      "outputs": []
    },
    {
      "cell_type": "code",
      "metadata": {
        "id": "v8ON3wGGEqBm"
      },
      "source": [
        "def check(x):\n",
        "  if isinstance(x, Expression):\n",
        "    return x\n",
        "  return Expression(x)"
      ],
      "execution_count": null,
      "outputs": []
    },
    {
      "cell_type": "code",
      "metadata": {
        "id": "1_TyX5TuPM_a"
      },
      "source": [
        "def fsqrt(x):\n",
        "  return ['sqrt', x]\n",
        "\n",
        "def fsin(x):\n",
        "  return ['sin', x]\n",
        "\n",
        "def fcos(x):\n",
        "  return ['cos', x]\n",
        "\n",
        "def ftan(x):\n",
        "  return ['tan', x]\n",
        "\n",
        "def farcsin(x):\n",
        "  return ['arcsin', x]\n",
        "\n",
        "def farccos(x):\n",
        "  return ['arccos', x]\n",
        "\n",
        "def farctan(x):\n",
        "  return ['arctan', x]\n",
        "\n",
        "def fsinh(x):\n",
        "  return ['sinh', x]\n",
        "\n",
        "def fcosh(x):\n",
        "  return ['cosh', x]\n",
        "\n",
        "def ftanh(x):\n",
        "  return ['tanh', x]\n",
        "\n",
        "def add(x, y):\n",
        "  return ['+', x, y]\n",
        "\n",
        "def mul(x, y):\n",
        "  return ['*', x, y]\n",
        "\n",
        "def div(x, y):\n",
        "  return ['/', x, y]\n",
        "\n",
        "def sub(x, y):\n",
        "  return ['-', x, y]\n",
        "\n",
        "def fpow(x, y):\n",
        "  return ['^', x, y]\n",
        "\n",
        "def fln(x):\n",
        "  return['ln', x]\n",
        "\n",
        "def flg(x):\n",
        "  return['lg', x]\n",
        "\n",
        "def flog(x, y):\n",
        "  return['log', x, y]\n",
        "\n",
        "def fabs(x):\n",
        "  return['abs', x]\n",
        "\n",
        "def neg(x):\n",
        "  return [\"--\", x]"
      ],
      "execution_count": null,
      "outputs": []
    },
    {
      "cell_type": "code",
      "metadata": {
        "id": "zEZGKaNEdN-X"
      },
      "source": [
        "def evaluate(f):\n",
        "  if isinstance(f, (int, float)):\n",
        "    return f\n",
        "  elif isinstance(f, list):\n",
        "    if f[0] == '+': \n",
        "      return evaluate(f[1]) + evaluate(f[2])\n",
        "    elif f[0] == '-':\n",
        "      return evaluate(f[1]) - evaluate(f[2])\n",
        "    elif f[0] == '*':\n",
        "      return evaluate(f[1]) * evaluate(f[2])\n",
        "    elif f[0] == '/':\n",
        "      return evaluate(f[1]) / evaluate(f[2])\n",
        "    elif f[0] == '^':\n",
        "      return evaluate(f[1]) ** evaluate(f[2])\n",
        "    elif f[0] == 'sqrt':\n",
        "      return math.sqrt(evaluate(f[1]))\n",
        "    elif f[0] == 'ln':\n",
        "      return math.log1p(evaluate(f[1]))\n",
        "    elif f[0] == 'lg':\n",
        "      return math.log10(evaluate(f[1]))\n",
        "    elif f[0] == 'log':\n",
        "      return math.log(evaluate(f[1]), evaluate(f[2]))\n",
        "    elif f[0] == 'abs':\n",
        "      return math.fabs(evaluate(f[1]))\n",
        "    elif f[0] == 'sin':\n",
        "      return math.sin(evaluate(f[1]))\n",
        "    elif f[0] == 'cos':\n",
        "      return math.cos(evaluate(f[1]))\n",
        "    elif f[0] == 'tan':\n",
        "      return math.tan(evaluate(f[1]))\n",
        "    elif f[0] == 'arcsin':\n",
        "      return math.asin(evaluate(f[1]))\n",
        "    elif f[0] == 'arccos':\n",
        "      return math.acos(evaluate(f[1]))\n",
        "    elif f[0] == 'arctan':\n",
        "      return math.atan(evaluate(f[1]))\n",
        "    elif f[0] == 'sinh':\n",
        "      return math.sinh(evaluate(f[1]))\n",
        "    elif f[0] == 'cosh':\n",
        "      return math.cosh(evaluate(f[1]))\n",
        "    elif f[0] == 'tanh':\n",
        "      return math.tanh(evaluate(f[1]))\n",
        "    elif f == 'exp':\n",
        "      return math.exp(1)\n",
        "    elif f == 'pi':\n",
        "      return math.pi\n",
        "  return None"
      ],
      "execution_count": null,
      "outputs": []
    },
    {
      "cell_type": "code",
      "metadata": {
        "id": "eo6BH03L74o9"
      },
      "source": [
        "def substitute(f, var, val):\n",
        "  val = check(val).f\n",
        "  if f == var:\n",
        "    return val\n",
        "  elif isinstance(f, list):\n",
        "    y = [f[0]]\n",
        "    for i in range(1, len(f)):\n",
        "      t = substitute(f[i], var, val)\n",
        "      y.append(t)\n",
        "    return y\n",
        "  else:\n",
        "    return f"
      ],
      "execution_count": null,
      "outputs": []
    },
    {
      "cell_type": "code",
      "metadata": {
        "id": "N90txslA-9s-"
      },
      "source": [
        "def expr2latex(x):\n",
        "  if x == 'pi':\n",
        "    return '\\\\' + x\n",
        "  if isinstance(x, (int, float)):\n",
        "    return str(x)\n",
        "  if isinstance(x, str):\n",
        "    return x\n",
        "  if isinstance(x, list):\n",
        "    if x[0] == \"+\":\n",
        "      return expr2latex(x[1]) + \"+\" + expr2latex(x[2])\n",
        "\n",
        "    if x[0] == \"-\":\n",
        "      return expr2latex(x[1]) + \"-\" + expr2latex(x[2])\n",
        "\n",
        "    if x[0] == \"*\":\n",
        "      left = expr2latex(x[1])\n",
        "      if isinstance(x[1], list) and x[1][0] == \"+\":\n",
        "        left = \"(\" + left + \")\"\n",
        "      right = expr2latex(x[2])\n",
        "      if isinstance(x[2], list) and x[2][0] == \"+\":\n",
        "        right = \"(\" + right + \")\"\n",
        "      return left + \"\\\\cdot \" + right\n",
        "\n",
        "    if x[0] == \"/\":\n",
        "      return \"\\\\dfrac{\" + expr2latex(x[1]) + \"}{\" + expr2latex(x[2]) + \"}\"\n",
        "\n",
        "    if x[0] == \"^\":\n",
        "      return \"{\" + expr2latex(x[1]) + \"}^{\" + expr2latex(x[2]) + \"}\"\n",
        "\n",
        "    if x[0] == \"sqrt\":\n",
        "      return \"\\\\sqrt{\" + expr2latex(x[1]) + \"}\"\n",
        "\n",
        "    if x[0] == \"ln\":\n",
        "      return \"\\\\ln{\" + expr2latex(x[1]) + \"}\"\n",
        "\n",
        "    if x[0] == \"lg\":\n",
        "      return \"\\\\lg{\" + expr2latex(x[1]) + \"}\"\n",
        "\n",
        "    if x[0] == \"log\":\n",
        "      return \"\\\\log _{\" + expr2latex(x[2]) + \"} \" + expr2latex(x[1])\n",
        "\n",
        "    if x[0] == \"abs\":\n",
        "      return \"\\\\lvert{\" + expr2latex(x[1]) + \"}\\\\rvert\"\n",
        "\n",
        "    if x[0] == \"sin\" or x[0] == \"cos\" or x[0] == \"tan\" or x[0] == \"arcsin\" or x[0] == \"arccos\" or x[0] == \"arctan\" or x[0] == \"sinh\" or x[0] == \"cosh\" or x[0] == \"tanh\":\n",
        "      return \"\\\\\" + x[0] + \"{\" + expr2latex(x[1]) + \"}\"\n",
        "      \n",
        "    if x[0] == \"--\":\n",
        "      a = expr2latex(x[1])\n",
        "      if isinstance(x[1], list):\n",
        "        a = \"\\\\left(\" + a + \"\\\\right)\"\n",
        "      return \"-{\" + a + \"}\"\n"
      ],
      "execution_count": null,
      "outputs": []
    },
    {
      "cell_type": "code",
      "metadata": {
        "id": "dUIZRatZEnEy"
      },
      "source": [
        "operators = ['+', '*', '-', '/', '^', 'sqrt', 'ln', 'lg', 'log', 'abs', \n",
        " 'sin', 'cos', 'tan', 'arcsin', 'arccos', 'arctan', 'sinh', 'cosh', 'tanh']\n",
        "\n",
        "const = ['exp', 'pi']\n",
        "\n",
        "def isconstant(f):\n",
        "  if isinstance(f, list):\n",
        "    for i in f:\n",
        "      if isconstant(i) == False:\n",
        "        return False\n",
        "\n",
        "  elif isinstance(f, (int, float)):\n",
        "    return True\n",
        "\n",
        "  elif f in operators:\n",
        "    return True\n",
        "\n",
        "  elif f in const:\n",
        "    return True\n",
        "\n",
        "  else:\n",
        "    return False\n",
        "\n",
        "  return True"
      ],
      "execution_count": null,
      "outputs": []
    },
    {
      "cell_type": "code",
      "metadata": {
        "id": "cdWUdDK-G5uz"
      },
      "source": [
        "def differentiate(f, x):\n",
        "  if isinstance(f, int):\n",
        "    return 0\n",
        "\n",
        "  if f == x:\n",
        "    return 1\n",
        "\n",
        "  if isinstance(f, str):\n",
        "    return 0\n",
        "\n",
        "  if isinstance(f, list):\n",
        "    if f[0] == \"+\":\n",
        "      u, v = f[1], f[2]\n",
        "      u1, v1 = differentiate(u, x), differentiate(v, x)\n",
        "      return add(u1, v1)\n",
        "\n",
        "    if f[0] == \"-\":\n",
        "      u, v = f[1], f[2]\n",
        "      u1, v1 = differentiate(u, x), differentiate(v, x)\n",
        "      return sub(u1, v1)      \n",
        "\n",
        "    if f[0] == \"*\":\n",
        "      u, v = f[1], f[2]\n",
        "      u1, v1 = differentiate(u, x), differentiate(v, x)\n",
        "      return add(mul(u1, v), mul(u, v1)) \n",
        "\n",
        "    if f[0] == \"/\":\n",
        "      u, v = f[1], f[2]\n",
        "      u1, v1 = differentiate(u, x), differentiate(v, x)\n",
        "      return div(sub(mul(u1, v), mul(u, v1)), fpow(v, 2)) \n",
        "\n",
        "    if f[0] == \"^\":\n",
        "      u, v = f[1], f[2]\n",
        "      u1, v1 = differentiate(u, x), differentiate(v, x)\n",
        "      p1, p2 = fpow(u, v), fpow(u, sub(v, 1))\n",
        "      s1 = mul(p1, mul(v1, fln(u)))\n",
        "      s2 = mul(v, mul(p2, u1))\n",
        "      return add(s1, s2) \n",
        "\n",
        "    if f[0] == \"--\":\n",
        "      u = f[1]\n",
        "      u1 = differentiate(u, x)\n",
        "      return neg(u1)\n",
        "\n",
        "    if f[0] == \"ln\":\n",
        "      u = f[1]\n",
        "      u1 = differentiate(u, x)\n",
        "      return div(u1, u)\n",
        "\n",
        "    if f[0] == \"log\":\n",
        "      u = f[1]\n",
        "      a = f[2]\n",
        "      u1 = differentiate(u, x)\n",
        "      return div(u1, mul(u, fln(a)))\n",
        "\n",
        "    if f[0] == \"lg\":\n",
        "      u = f[1]\n",
        "      u1 = differentiate(u, x)\n",
        "      return div(u1, mul(u, fln(10)))\n",
        "\n",
        "    if f[0] == \"sqrt\":\n",
        "      u = f[1]\n",
        "      u1 = differentiate(u, x)\n",
        "      return div(u1, mul(2, fsqrt(u)))\n",
        "\n",
        "    if f[0] == \"sin\":\n",
        "      u = f[1]\n",
        "      u1 = differentiate(u, x)\n",
        "      return mul(fcos(u), u1)\n",
        "\n",
        "    if f[0] == \"cos\":\n",
        "      u = f[1]\n",
        "      u1 = differentiate(u, x)\n",
        "      return mul(neg(fsin(u)), u1)\n",
        "\n",
        "    if f[0] == \"tan\":\n",
        "      u = f[1]\n",
        "      u1 = differentiate(u, x)\n",
        "      return mul(div(1, fpow(fcos(u), 2)), u1)\n",
        "\n",
        "    if f[0] == \"arcsin\":\n",
        "      u = f[1]\n",
        "      u1 = differentiate(u, x)\n",
        "      return mul(div(1, fsqrt(sub(1,fpow(u, 2)))), u1)\n",
        "\n",
        "    if f[0] == \"arccos\":\n",
        "      u = f[1]\n",
        "      u1 = differentiate(u, x)\n",
        "      return neg(mul(div(1, fsqrt(sub(1,fpow(u, 2)))), u1))\n",
        "\n",
        "    if f[0] == \"arctan\":\n",
        "      u = f[1]\n",
        "      u1 = differentiate(u, x)\n",
        "      return mul(div(1, add(1,fpow(u, 2))), u1)\n",
        "\n",
        "    if f[0] == \"sinh\":\n",
        "      u = f[1]\n",
        "      u1 = differentiate(u, x)\n",
        "      return mul(fcosh(u), u1)\n",
        "\n",
        "    if f[0] == \"cosh\":\n",
        "      u = f[1]\n",
        "      u1 = differentiate(u, x)\n",
        "      return mul(fsinh(u), u1)\n",
        "\n",
        "    if f[0] == \"tanh\":\n",
        "      u = f[1]\n",
        "      u1 = differentiate(u, x)\n",
        "      return mul(div(1, fpow(fcosh(u), 2)), u1)"
      ],
      "execution_count": null,
      "outputs": []
    },
    {
      "cell_type": "code",
      "metadata": {
        "id": "rlHM1lr7OAM6"
      },
      "source": [
        "class Expression:\n",
        "  def __init__(self, f):\n",
        "    self.f = f\n",
        "\n",
        "  def __add__(self, x):\n",
        "    x = check(x)\n",
        "    return Expression(add(self.f, x.f))\n",
        "\n",
        "  def __mul__(self, x):\n",
        "    x = check(x)\n",
        "    return Expression(mul(self.f, x.f))\n",
        "\n",
        "  def __truediv__(self, x):\n",
        "    x = check(x)\n",
        "    return Expression(div(self.f, x.f))\n",
        "\n",
        "  def __sub__(self, x):\n",
        "    x = check(x)\n",
        "    return Expression(sub(self.f, x.f))\n",
        "\n",
        "  def __pow__(self, x):\n",
        "    x = check(x)\n",
        "    return Expression(fpow(self.f, x.f))\n",
        "\n",
        "  def __neg__(self):\n",
        "    return Expression(neg(self.f))\n",
        "\n",
        "  def sqrt(self):\n",
        "    return Expression(fsqrt(check(self).f))\n",
        "\n",
        "  def ln(self):\n",
        "    return Expression(fln(check(self).f))  \n",
        "\n",
        "  def lg(self):\n",
        "    return Expression(flg(check(self).f)) \n",
        "\n",
        "  def log(self, x):\n",
        "    x = check(x)\n",
        "    return Expression(flog(self.f, x.f))  \n",
        "\n",
        "  def abs(self):\n",
        "    return Expression(fabs(check(self).f))\n",
        "\n",
        "  def sin(self):\n",
        "    return Expression(fsin(check(self).f)) \n",
        "    \n",
        "  def cos(self):\n",
        "    return Expression(fcos(check(self).f)) \n",
        "\n",
        "  def tan(self):\n",
        "    return Expression(ftan(check(self).f)) \n",
        "\n",
        "  def arcsin(self):\n",
        "    return Expression(farcsin(check(self).f)) \n",
        "\n",
        "  def arccos(self):\n",
        "    return Expression(farccos(check(self).f))\n",
        "\n",
        "  def arctan(self):\n",
        "    return Expression(farctan(check(self).f)) \n",
        "\n",
        "  def sinh(self):\n",
        "    return Expression(fsinh(check(self).f)) \n",
        "\n",
        "  def cosh(self):\n",
        "    return Expression(fcosh(check(self).f)) \n",
        "\n",
        "  def tanh(self):\n",
        "    return Expression(ftanh(check(self).f)) \n",
        "\n",
        "  def exp():\n",
        "    return Expression('e')\n",
        "\n",
        "  def pi():\n",
        "    return Expression('pi')\n",
        "\n",
        "  def evalf(self):\n",
        "    return evaluate(self.f)\n",
        "  \n",
        "  def subs(self, var, val):\n",
        "    return Expression(substitute(self.f, var, val))\n",
        "\n",
        "  def show(self):\n",
        "    display(Math(expr2latex(self.f)))\n",
        "\n",
        "  def isconst(self):\n",
        "    return isconstant(self.f)\n",
        "    \n",
        "  def diff(self, var):\n",
        "    var = check(var).f\n",
        "    return Expression(differentiate(self.f, var))"
      ],
      "execution_count": null,
      "outputs": []
    },
    {
      "cell_type": "code",
      "metadata": {
        "colab": {
          "base_uri": "https://localhost:8080/"
        },
        "id": "4s69eIT2RSLL",
        "outputId": "a233262e-bee2-4515-da8b-6af2d8b118b5"
      },
      "source": [
        "x = Expression('x')\n",
        "y = Expression('y')\n",
        "z = (x + y) ** 0.4\n",
        "z.f"
      ],
      "execution_count": null,
      "outputs": [
        {
          "output_type": "execute_result",
          "data": {
            "text/plain": [
              "['^', ['+', 'x', 'y'], 0.4]"
            ]
          },
          "metadata": {
            "tags": []
          },
          "execution_count": 184
        }
      ]
    },
    {
      "cell_type": "code",
      "metadata": {
        "colab": {
          "base_uri": "https://localhost:8080/"
        },
        "id": "3b-LZ6k4ScrB",
        "outputId": "a374b6a0-31f6-445a-f57c-aafb96f3f048"
      },
      "source": [
        "z = x.ln() + y.log(2)\n",
        "z.f"
      ],
      "execution_count": null,
      "outputs": [
        {
          "output_type": "execute_result",
          "data": {
            "text/plain": [
              "['+', ['ln', 'x'], ['log', 'y', 2]]"
            ]
          },
          "metadata": {
            "tags": []
          },
          "execution_count": 185
        }
      ]
    },
    {
      "cell_type": "code",
      "metadata": {
        "colab": {
          "base_uri": "https://localhost:8080/"
        },
        "id": "SH1rWrhOYU73",
        "outputId": "4a68841e-ff51-4e5a-f6ff-e2814913ddc2"
      },
      "source": [
        "z = x.abs()\n",
        "z.f"
      ],
      "execution_count": null,
      "outputs": [
        {
          "output_type": "execute_result",
          "data": {
            "text/plain": [
              "['abs', 'x']"
            ]
          },
          "metadata": {
            "tags": []
          },
          "execution_count": 186
        }
      ]
    },
    {
      "cell_type": "code",
      "metadata": {
        "colab": {
          "base_uri": "https://localhost:8080/"
        },
        "id": "QmDdsu-Bbiwm",
        "outputId": "4fe245ee-f537-4f25-ba13-775da9a1b446"
      },
      "source": [
        "z = x.sinh()\n",
        "print(z.f)\n",
        "print(Expression.exp())\n",
        "print(Expression.pi())"
      ],
      "execution_count": null,
      "outputs": [
        {
          "output_type": "stream",
          "text": [
            "['sinh', 'x']\n",
            "<__main__.Expression object at 0x7f41d6fcd9d0>\n",
            "<__main__.Expression object at 0x7f41d6fcdad0>\n"
          ],
          "name": "stdout"
        }
      ]
    },
    {
      "cell_type": "code",
      "metadata": {
        "colab": {
          "base_uri": "https://localhost:8080/"
        },
        "id": "oPYWFyTUmGo2",
        "outputId": "601bc8fb-58f0-4be7-be76-854d0e69d79e"
      },
      "source": [
        "z = Expression.abs(-2) + Expression.abs(-2)\n",
        "print(z.f)\n",
        "z.evalf()"
      ],
      "execution_count": null,
      "outputs": [
        {
          "output_type": "stream",
          "text": [
            "['+', ['abs', -2], ['abs', -2]]\n"
          ],
          "name": "stdout"
        },
        {
          "output_type": "execute_result",
          "data": {
            "text/plain": [
              "4.0"
            ]
          },
          "metadata": {
            "tags": []
          },
          "execution_count": 188
        }
      ]
    },
    {
      "cell_type": "code",
      "metadata": {
        "colab": {
          "base_uri": "https://localhost:8080/"
        },
        "id": "5bEY8FG_tkdj",
        "outputId": "7ade563d-2cfc-472a-f504-a7d507f254e4"
      },
      "source": [
        "z = x + Expression(2) * x\n",
        "print(z.f)\n",
        "\n",
        "print(z.subs('x', 3).f)"
      ],
      "execution_count": null,
      "outputs": [
        {
          "output_type": "stream",
          "text": [
            "['+', 'x', ['*', 2, 'x']]\n",
            "['+', 3, ['*', 2, 3]]\n"
          ],
          "name": "stdout"
        }
      ]
    },
    {
      "cell_type": "code",
      "metadata": {
        "colab": {
          "base_uri": "https://localhost:8080/",
          "height": 388
        },
        "id": "Z75ZNvt8-W9i",
        "outputId": "93be8cfa-dfc7-4baa-fd70-209fa07914eb"
      },
      "source": [
        "z = x + y\n",
        "print(z.f)\n",
        "z.show()\n",
        "\n",
        "z = x - y\n",
        "print(z.f)\n",
        "z.show()\n",
        "\n",
        "z = x * y\n",
        "print(z.f)\n",
        "z.show()\n",
        "\n",
        "z = x / y\n",
        "print(z.f)\n",
        "z.show()\n",
        "\n",
        "z = x ** y\n",
        "print(z.f)\n",
        "z.show()\n",
        "\n",
        "z = x.sqrt() + y.sqrt() \n",
        "print(z.f)\n",
        "z.show()\n",
        "\n",
        "z = x.ln() + y.lg() \n",
        "print(z.f)\n",
        "z.show()\n",
        "\n",
        "z = z.abs()\n",
        "print(z.f)\n",
        "z.show()\n",
        "\n",
        "z = x.sin() + y.cos() + x.tan() + y.arcsin() + x.arccos() + y.arctan() + x.sinh() + y.cosh() + x.tanh()\n",
        "print(z.f)\n",
        "z.show()"
      ],
      "execution_count": null,
      "outputs": [
        {
          "output_type": "stream",
          "text": [
            "['+', 'x', 'y']\n"
          ],
          "name": "stdout"
        },
        {
          "output_type": "display_data",
          "data": {
            "text/latex": "$$x+y$$",
            "text/plain": [
              "<IPython.core.display.Math object>"
            ]
          },
          "metadata": {
            "tags": []
          }
        },
        {
          "output_type": "stream",
          "text": [
            "['-', 'x', 'y']\n"
          ],
          "name": "stdout"
        },
        {
          "output_type": "display_data",
          "data": {
            "text/latex": "$$x-y$$",
            "text/plain": [
              "<IPython.core.display.Math object>"
            ]
          },
          "metadata": {
            "tags": []
          }
        },
        {
          "output_type": "stream",
          "text": [
            "['*', 'x', 'y']\n"
          ],
          "name": "stdout"
        },
        {
          "output_type": "display_data",
          "data": {
            "text/latex": "$$x\\cdot y$$",
            "text/plain": [
              "<IPython.core.display.Math object>"
            ]
          },
          "metadata": {
            "tags": []
          }
        },
        {
          "output_type": "stream",
          "text": [
            "['/', 'x', 'y']\n"
          ],
          "name": "stdout"
        },
        {
          "output_type": "display_data",
          "data": {
            "text/latex": "$$\\dfrac{x}{y}$$",
            "text/plain": [
              "<IPython.core.display.Math object>"
            ]
          },
          "metadata": {
            "tags": []
          }
        },
        {
          "output_type": "stream",
          "text": [
            "['^', 'x', 'y']\n"
          ],
          "name": "stdout"
        },
        {
          "output_type": "display_data",
          "data": {
            "text/latex": "$${x}^{y}$$",
            "text/plain": [
              "<IPython.core.display.Math object>"
            ]
          },
          "metadata": {
            "tags": []
          }
        },
        {
          "output_type": "stream",
          "text": [
            "['+', ['sqrt', 'x'], ['sqrt', 'y']]\n"
          ],
          "name": "stdout"
        },
        {
          "output_type": "display_data",
          "data": {
            "text/latex": "$$\\sqrt{x}+\\sqrt{y}$$",
            "text/plain": [
              "<IPython.core.display.Math object>"
            ]
          },
          "metadata": {
            "tags": []
          }
        },
        {
          "output_type": "stream",
          "text": [
            "['+', ['ln', 'x'], ['lg', 'y']]\n"
          ],
          "name": "stdout"
        },
        {
          "output_type": "display_data",
          "data": {
            "text/latex": "$$\\ln{x}+\\lg{y}$$",
            "text/plain": [
              "<IPython.core.display.Math object>"
            ]
          },
          "metadata": {
            "tags": []
          }
        },
        {
          "output_type": "stream",
          "text": [
            "['abs', ['+', ['ln', 'x'], ['lg', 'y']]]\n"
          ],
          "name": "stdout"
        },
        {
          "output_type": "display_data",
          "data": {
            "text/latex": "$$\\lvert{\\ln{x}+\\lg{y}}\\rvert$$",
            "text/plain": [
              "<IPython.core.display.Math object>"
            ]
          },
          "metadata": {
            "tags": []
          }
        },
        {
          "output_type": "stream",
          "text": [
            "['+', ['+', ['+', ['+', ['+', ['+', ['+', ['+', ['sin', 'x'], ['cos', 'y']], ['tan', 'x']], ['arcsin', 'y']], ['arccos', 'x']], ['arctan', 'y']], ['sinh', 'x']], ['cosh', 'y']], ['tanh', 'x']]\n"
          ],
          "name": "stdout"
        },
        {
          "output_type": "display_data",
          "data": {
            "text/latex": "$$\\sin{x}+\\cos{y}+\\tan{x}+\\arcsin{y}+\\arccos{x}+\\arctan{y}+\\sinh{x}+\\cosh{y}+\\tanh{x}$$",
            "text/plain": [
              "<IPython.core.display.Math object>"
            ]
          },
          "metadata": {
            "tags": []
          }
        }
      ]
    },
    {
      "cell_type": "code",
      "metadata": {
        "colab": {
          "base_uri": "https://localhost:8080/"
        },
        "id": "7RDYKr18O6u2",
        "outputId": "001682d3-3585-4111-e0d6-c59fd33d24e7"
      },
      "source": [
        "z = Expression(2) + Expression(2) * Expression(2)\n",
        "print(z.f)\n",
        "z.isconst()"
      ],
      "execution_count": null,
      "outputs": [
        {
          "output_type": "stream",
          "text": [
            "['+', 2, ['*', 2, 2]]\n"
          ],
          "name": "stdout"
        },
        {
          "output_type": "execute_result",
          "data": {
            "text/plain": [
              "True"
            ]
          },
          "metadata": {
            "tags": []
          },
          "execution_count": 191
        }
      ]
    },
    {
      "cell_type": "code",
      "metadata": {
        "colab": {
          "base_uri": "https://localhost:8080/",
          "height": 57
        },
        "id": "bjnzLmht-DCf",
        "outputId": "dc65148a-e4bd-48fb-a41d-c265de52ce03"
      },
      "source": [
        "z = x * Expression.exp()**2\n",
        "print(z.f)\n",
        "z.show()"
      ],
      "execution_count": null,
      "outputs": [
        {
          "output_type": "stream",
          "text": [
            "['*', 'x', ['^', 'e', 2]]\n"
          ],
          "name": "stdout"
        },
        {
          "output_type": "display_data",
          "data": {
            "text/latex": "$$x\\cdot {e}^{2}$$",
            "text/plain": [
              "<IPython.core.display.Math object>"
            ]
          },
          "metadata": {
            "tags": []
          }
        }
      ]
    },
    {
      "cell_type": "code",
      "metadata": {
        "colab": {
          "base_uri": "https://localhost:8080/",
          "height": 112
        },
        "id": "Qgztu5tMHS7O",
        "outputId": "636c856e-0502-455e-fa48-5aa8cf67d775"
      },
      "source": [
        "z = x.tanh()\n",
        "print(z.f)\n",
        "z.show()\n",
        "print(differentiate(z.f, x))\n",
        "Expression(differentiate(z.f, 'x')).show()"
      ],
      "execution_count": null,
      "outputs": [
        {
          "output_type": "stream",
          "text": [
            "['tanh', 'x']\n"
          ],
          "name": "stdout"
        },
        {
          "output_type": "display_data",
          "data": {
            "text/latex": "$$\\tanh{x}$$",
            "text/plain": [
              "<IPython.core.display.Math object>"
            ]
          },
          "metadata": {
            "tags": []
          }
        },
        {
          "output_type": "stream",
          "text": [
            "['*', ['/', 1, ['^', ['cosh', 'x'], 2]], 0]\n"
          ],
          "name": "stdout"
        },
        {
          "output_type": "display_data",
          "data": {
            "text/latex": "$$\\dfrac{1}{{\\cosh{x}}^{2}}\\cdot 1$$",
            "text/plain": [
              "<IPython.core.display.Math object>"
            ]
          },
          "metadata": {
            "tags": []
          }
        }
      ]
    },
    {
      "cell_type": "code",
      "metadata": {
        "colab": {
          "base_uri": "https://localhost:8080/",
          "height": 756
        },
        "id": "yoBKRSCCKozX",
        "outputId": "8a2f33e4-20d9-4e9f-be65-c1cbb79b5165"
      },
      "source": [
        "z = x + y\n",
        "print(z.f)\n",
        "z.show()\n",
        "print(z.diff(x).f)\n",
        "z.diff(x).show()\n",
        "\n",
        "z = x - y\n",
        "print(z.f)\n",
        "z.show()\n",
        "print(z.diff(x).f)\n",
        "z.diff(x).show()\n",
        "\n",
        "z = x * y\n",
        "print(z.f)\n",
        "z.show()\n",
        "print(z.diff(x).f)\n",
        "z.diff(x).show()\n",
        "\n",
        "z = x / y\n",
        "print(z.f)\n",
        "z.show()\n",
        "print(z.diff(x).f)\n",
        "z.diff(x).show()\n",
        "\n",
        "z = x ** y\n",
        "print(z.f)\n",
        "z.show()\n",
        "print(z.diff(x).f)\n",
        "z.diff(x).show()\n",
        "\n",
        "z = x.sqrt() + y.sqrt() \n",
        "print(z.f)\n",
        "z.show()\n",
        "print(z.diff(x).f)\n",
        "z.diff(x).show()\n",
        "\n",
        "z = x.ln() + y.lg() \n",
        "print(z.f)\n",
        "z.show()\n",
        "print(z.diff(x).f)\n",
        "z.diff(x).show()\n",
        "\n",
        "z = x.sin() + y.cos() + x.tan() + y.arcsin() + x.arccos() + y.arctan() + x.sinh() + y.cosh() + x.tanh()\n",
        "print(z.f)\n",
        "z.show()\n",
        "print(z.diff(x).f)\n",
        "z.diff(x).show()"
      ],
      "execution_count": null,
      "outputs": [
        {
          "output_type": "stream",
          "text": [
            "['+', 'x', 'y']\n"
          ],
          "name": "stdout"
        },
        {
          "output_type": "display_data",
          "data": {
            "text/latex": "$$x+y$$",
            "text/plain": [
              "<IPython.core.display.Math object>"
            ]
          },
          "metadata": {
            "tags": []
          }
        },
        {
          "output_type": "stream",
          "text": [
            "['+', 1, 0]\n"
          ],
          "name": "stdout"
        },
        {
          "output_type": "display_data",
          "data": {
            "text/latex": "$$1+0$$",
            "text/plain": [
              "<IPython.core.display.Math object>"
            ]
          },
          "metadata": {
            "tags": []
          }
        },
        {
          "output_type": "stream",
          "text": [
            "['-', 'x', 'y']\n"
          ],
          "name": "stdout"
        },
        {
          "output_type": "display_data",
          "data": {
            "text/latex": "$$x-y$$",
            "text/plain": [
              "<IPython.core.display.Math object>"
            ]
          },
          "metadata": {
            "tags": []
          }
        },
        {
          "output_type": "stream",
          "text": [
            "['-', 1, 0]\n"
          ],
          "name": "stdout"
        },
        {
          "output_type": "display_data",
          "data": {
            "text/latex": "$$1-0$$",
            "text/plain": [
              "<IPython.core.display.Math object>"
            ]
          },
          "metadata": {
            "tags": []
          }
        },
        {
          "output_type": "stream",
          "text": [
            "['*', 'x', 'y']\n"
          ],
          "name": "stdout"
        },
        {
          "output_type": "display_data",
          "data": {
            "text/latex": "$$x\\cdot y$$",
            "text/plain": [
              "<IPython.core.display.Math object>"
            ]
          },
          "metadata": {
            "tags": []
          }
        },
        {
          "output_type": "stream",
          "text": [
            "['+', ['*', 1, 'y'], ['*', 'x', 0]]\n"
          ],
          "name": "stdout"
        },
        {
          "output_type": "display_data",
          "data": {
            "text/latex": "$$1\\cdot y+x\\cdot 0$$",
            "text/plain": [
              "<IPython.core.display.Math object>"
            ]
          },
          "metadata": {
            "tags": []
          }
        },
        {
          "output_type": "stream",
          "text": [
            "['/', 'x', 'y']\n"
          ],
          "name": "stdout"
        },
        {
          "output_type": "display_data",
          "data": {
            "text/latex": "$$\\dfrac{x}{y}$$",
            "text/plain": [
              "<IPython.core.display.Math object>"
            ]
          },
          "metadata": {
            "tags": []
          }
        },
        {
          "output_type": "stream",
          "text": [
            "['/', ['-', ['*', 1, 'y'], ['*', 'x', 0]], ['^', 'y', 2]]\n"
          ],
          "name": "stdout"
        },
        {
          "output_type": "display_data",
          "data": {
            "text/latex": "$$\\dfrac{1\\cdot y-x\\cdot 0}{{y}^{2}}$$",
            "text/plain": [
              "<IPython.core.display.Math object>"
            ]
          },
          "metadata": {
            "tags": []
          }
        },
        {
          "output_type": "stream",
          "text": [
            "['^', 'x', 'y']\n"
          ],
          "name": "stdout"
        },
        {
          "output_type": "display_data",
          "data": {
            "text/latex": "$${x}^{y}$$",
            "text/plain": [
              "<IPython.core.display.Math object>"
            ]
          },
          "metadata": {
            "tags": []
          }
        },
        {
          "output_type": "stream",
          "text": [
            "['+', ['*', ['^', 'x', 'y'], ['*', 0, ['ln', 'x']]], ['*', 'y', ['*', ['^', 'x', ['-', 'y', 1]], 1]]]\n"
          ],
          "name": "stdout"
        },
        {
          "output_type": "display_data",
          "data": {
            "text/latex": "$${x}^{y}\\cdot 0\\cdot \\ln{x}+y\\cdot {x}^{y-1}\\cdot 1$$",
            "text/plain": [
              "<IPython.core.display.Math object>"
            ]
          },
          "metadata": {
            "tags": []
          }
        },
        {
          "output_type": "stream",
          "text": [
            "['+', ['sqrt', 'x'], ['sqrt', 'y']]\n"
          ],
          "name": "stdout"
        },
        {
          "output_type": "display_data",
          "data": {
            "text/latex": "$$\\sqrt{x}+\\sqrt{y}$$",
            "text/plain": [
              "<IPython.core.display.Math object>"
            ]
          },
          "metadata": {
            "tags": []
          }
        },
        {
          "output_type": "stream",
          "text": [
            "['+', ['/', 1, ['*', 2, ['sqrt', 'x']]], ['/', 0, ['*', 2, ['sqrt', 'y']]]]\n"
          ],
          "name": "stdout"
        },
        {
          "output_type": "display_data",
          "data": {
            "text/latex": "$$\\dfrac{1}{2\\cdot \\sqrt{x}}+\\dfrac{0}{2\\cdot \\sqrt{y}}$$",
            "text/plain": [
              "<IPython.core.display.Math object>"
            ]
          },
          "metadata": {
            "tags": []
          }
        },
        {
          "output_type": "stream",
          "text": [
            "['+', ['ln', 'x'], ['lg', 'y']]\n"
          ],
          "name": "stdout"
        },
        {
          "output_type": "display_data",
          "data": {
            "text/latex": "$$\\ln{x}+\\lg{y}$$",
            "text/plain": [
              "<IPython.core.display.Math object>"
            ]
          },
          "metadata": {
            "tags": []
          }
        },
        {
          "output_type": "stream",
          "text": [
            "['+', ['/', 1, 'x'], ['/', 0, ['*', 'y', ['ln', 10]]]]\n"
          ],
          "name": "stdout"
        },
        {
          "output_type": "display_data",
          "data": {
            "text/latex": "$$\\dfrac{1}{x}+\\dfrac{0}{y\\cdot \\ln{10}}$$",
            "text/plain": [
              "<IPython.core.display.Math object>"
            ]
          },
          "metadata": {
            "tags": []
          }
        },
        {
          "output_type": "stream",
          "text": [
            "['+', ['+', ['+', ['+', ['+', ['+', ['+', ['+', ['sin', 'x'], ['cos', 'y']], ['tan', 'x']], ['arcsin', 'y']], ['arccos', 'x']], ['arctan', 'y']], ['sinh', 'x']], ['cosh', 'y']], ['tanh', 'x']]\n"
          ],
          "name": "stdout"
        },
        {
          "output_type": "display_data",
          "data": {
            "text/latex": "$$\\sin{x}+\\cos{y}+\\tan{x}+\\arcsin{y}+\\arccos{x}+\\arctan{y}+\\sinh{x}+\\cosh{y}+\\tanh{x}$$",
            "text/plain": [
              "<IPython.core.display.Math object>"
            ]
          },
          "metadata": {
            "tags": []
          }
        },
        {
          "output_type": "stream",
          "text": [
            "['+', ['+', ['+', ['+', ['+', ['+', ['+', ['+', ['*', ['cos', 'x'], 1], ['*', ['--', ['sin', 'y']], 0]], ['*', ['/', 1, ['^', ['cos', 'x'], 2]], 1]], ['*', ['/', 1, ['sqrt', ['-', 1, ['^', 'y', 2]]]], 0]], ['--', ['*', ['/', 1, ['sqrt', ['-', 1, ['^', 'x', 2]]]], 1]]], ['*', ['/', 1, ['+', 1, ['^', 'y', 2]]], 0]], ['*', ['cosh', 'x'], 1]], ['*', ['sinh', 'y'], 0]], ['*', ['/', 1, ['^', ['cosh', 'x'], 2]], 1]]\n"
          ],
          "name": "stdout"
        },
        {
          "output_type": "display_data",
          "data": {
            "text/latex": "$$\\cos{x}\\cdot 1+-{\\left(\\sin{y}\\right)}\\cdot 0+\\dfrac{1}{{\\cos{x}}^{2}}\\cdot 1+\\dfrac{1}{\\sqrt{1-{y}^{2}}}\\cdot 0+-{\\left(\\dfrac{1}{\\sqrt{1-{x}^{2}}}\\cdot 1\\right)}+\\dfrac{1}{1+{y}^{2}}\\cdot 0+\\cosh{x}\\cdot 1+\\sinh{y}\\cdot 0+\\dfrac{1}{{\\cosh{x}}^{2}}\\cdot 1$$",
            "text/plain": [
              "<IPython.core.display.Math object>"
            ]
          },
          "metadata": {
            "tags": []
          }
        }
      ]
    },
    {
      "cell_type": "code",
      "metadata": {
        "id": "LIlodNx2TC2_"
      },
      "source": [
        ""
      ],
      "execution_count": null,
      "outputs": []
    }
  ]
}