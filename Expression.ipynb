{
  "nbformat": 4,
  "nbformat_minor": 0,
  "metadata": {
    "colab": {
      "name": "Expression.ipynb",
      "provenance": [],
      "collapsed_sections": [],
      "authorship_tag": "ABX9TyOvtJd5S3I4ZHoaoTO0YuFS",
      "include_colab_link": true
    },
    "kernelspec": {
      "name": "python3",
      "display_name": "Python 3"
    },
    "language_info": {
      "name": "python"
    }
  },
  "cells": [
    {
      "cell_type": "markdown",
      "metadata": {
        "id": "view-in-github",
        "colab_type": "text"
      },
      "source": [
        "<a href=\"https://colab.research.google.com/github/grushanina/KA/blob/main/Expression.ipynb\" target=\"_parent\"><img src=\"https://colab.research.google.com/assets/colab-badge.svg\" alt=\"Open In Colab\"/></a>"
      ]
    },
    {
      "cell_type": "code",
      "metadata": {
        "id": "ToBDF185dSPj"
      },
      "source": [
        "import math\n",
        "from IPython.display import display, Math"
      ],
      "execution_count": 67,
      "outputs": []
    },
    {
      "cell_type": "code",
      "metadata": {
        "id": "w32yBJV2Jqkr"
      },
      "source": [
        "#Разложение числа на множетели\n",
        "from collections import Counter\n",
        "\n",
        "def Factor(n):\n",
        "    Ans = []\n",
        "    d = 2\n",
        "    while d * d <= n:\n",
        "        if n % d == 0:\n",
        "            Ans.append(d)\n",
        "            n //= d\n",
        "        else:\n",
        "            d += 1\n",
        "    if n > 1:\n",
        "        Ans.append(n)\n",
        "    return Ans\n",
        "\n",
        "def Max_Factor(n):\n",
        "  l = Factor(n)\n",
        "  new = []\n",
        "  c = Counter(l)\n",
        "  for i in set(l):\n",
        "    p = c[i]\n",
        "    if c[i]%2 != 0:\n",
        "      new.append(i)\n",
        "      p-=1\n",
        "    if p != 0:\n",
        "      new.append(i**p)\n",
        "  new.sort()\n",
        "  return new"
      ],
      "execution_count": 68,
      "outputs": []
    },
    {
      "cell_type": "code",
      "metadata": {
        "id": "v8ON3wGGEqBm"
      },
      "source": [
        "def check(x):\n",
        "  if isinstance(x, Expression):\n",
        "    return x\n",
        "  return Expression(x)"
      ],
      "execution_count": 69,
      "outputs": []
    },
    {
      "cell_type": "code",
      "metadata": {
        "id": "1_TyX5TuPM_a"
      },
      "source": [
        "def fsqrt(x):\n",
        "  return ['sqrt', x]\n",
        "\n",
        "def fsin(x):\n",
        "  return ['sin', x]\n",
        "\n",
        "def fcos(x):\n",
        "  return ['cos', x]\n",
        "\n",
        "def ftan(x):\n",
        "  return ['tan', x]\n",
        "\n",
        "def farcsin(x):\n",
        "  return ['arcsin', x]\n",
        "\n",
        "def farccos(x):\n",
        "  return ['arccos', x]\n",
        "\n",
        "def farctan(x):\n",
        "  return ['arctan', x]\n",
        "\n",
        "def fsinh(x):\n",
        "  return ['sinh', x]\n",
        "\n",
        "def fcosh(x):\n",
        "  return ['cosh', x]\n",
        "\n",
        "def ftanh(x):\n",
        "  return ['tanh', x]\n",
        "\n",
        "def add(x, y):\n",
        "  return ['+', x, y]\n",
        "\n",
        "def mul(x, y):\n",
        "  return ['*', x, y]\n",
        "\n",
        "def div(x, y):\n",
        "  return ['/', x, y]\n",
        "\n",
        "def sub(x, y):\n",
        "  return ['-', x, y]\n",
        "\n",
        "def fpow(x, y):\n",
        "  return ['^', x, y]\n",
        "\n",
        "def fln(x):\n",
        "  return['ln', x]\n",
        "\n",
        "def flg(x):\n",
        "  return['lg', x]\n",
        "\n",
        "def flog(x, y):\n",
        "  return['log', x, y]\n",
        "\n",
        "def fabs(x):\n",
        "  return['abs', x]\n",
        "\n",
        "def neg(x):\n",
        "  return [\"--\", x]"
      ],
      "execution_count": 70,
      "outputs": []
    },
    {
      "cell_type": "code",
      "metadata": {
        "id": "zEZGKaNEdN-X"
      },
      "source": [
        "def evaluate(f):\n",
        "  if isinstance(f, (int, float)):\n",
        "    return f\n",
        "  elif isinstance(f, list):\n",
        "    if f[0] == '+': \n",
        "      return evaluate(f[1]) + evaluate(f[2])\n",
        "    elif f[0] == '-':\n",
        "      return evaluate(f[1]) - evaluate(f[2])\n",
        "    elif f[0] == '*':\n",
        "      return evaluate(f[1]) * evaluate(f[2])\n",
        "    elif f[0] == '/':\n",
        "      return evaluate(f[1]) / evaluate(f[2])\n",
        "    elif f[0] == '^':\n",
        "      return evaluate(f[1]) ** evaluate(f[2])\n",
        "    elif f[0] == 'sqrt':\n",
        "      return math.sqrt(evaluate(f[1]))\n",
        "    elif f[0] == 'ln':\n",
        "      return math.log1p(evaluate(f[1]))\n",
        "    elif f[0] == 'lg':\n",
        "      return math.log10(evaluate(f[1]))\n",
        "    elif f[0] == 'log':\n",
        "      return math.log(evaluate(f[1]), evaluate(f[2]))\n",
        "    elif f[0] == 'abs':\n",
        "      return math.fabs(evaluate(f[1]))\n",
        "    elif f[0] == 'sin':\n",
        "      return math.sin(evaluate(f[1]))\n",
        "    elif f[0] == 'cos':\n",
        "      return math.cos(evaluate(f[1]))\n",
        "    elif f[0] == 'tan':\n",
        "      return math.tan(evaluate(f[1]))\n",
        "    elif f[0] == 'arcsin':\n",
        "      return math.asin(evaluate(f[1]))\n",
        "    elif f[0] == 'arccos':\n",
        "      return math.acos(evaluate(f[1]))\n",
        "    elif f[0] == 'arctan':\n",
        "      return math.atan(evaluate(f[1]))\n",
        "    elif f[0] == 'sinh':\n",
        "      return math.sinh(evaluate(f[1]))\n",
        "    elif f[0] == 'cosh':\n",
        "      return math.cosh(evaluate(f[1]))\n",
        "    elif f[0] == 'tanh':\n",
        "      return math.tanh(evaluate(f[1]))\n",
        "    elif f == 'exp':\n",
        "      return math.exp(1)\n",
        "    elif f == 'pi':\n",
        "      return math.pi\n",
        "  return None"
      ],
      "execution_count": 71,
      "outputs": []
    },
    {
      "cell_type": "code",
      "metadata": {
        "id": "eo6BH03L74o9"
      },
      "source": [
        "def substitute(f, var, val):\n",
        "  val = check(val).f\n",
        "  if f == var:\n",
        "    return val\n",
        "  elif isinstance(f, list):\n",
        "    y = [f[0]]\n",
        "    for i in range(1, len(f)):\n",
        "      t = substitute(f[i], var, val)\n",
        "      y.append(t)\n",
        "    return y\n",
        "  else:\n",
        "    return f"
      ],
      "execution_count": 72,
      "outputs": []
    },
    {
      "cell_type": "code",
      "metadata": {
        "id": "N90txslA-9s-"
      },
      "source": [
        "def expr2latex(x):\n",
        "  if x == 'pi' or x == 'infty':\n",
        "    return '\\\\' + x\n",
        "\n",
        "  if isinstance(x, (int, float)):\n",
        "    return str(x)\n",
        "  if isinstance(x, str):\n",
        "    return x\n",
        "  if isinstance(x, list):\n",
        "    if x[0] == \"+\":\n",
        "      return expr2latex(x[1]) + \"+\" + expr2latex(x[2])\n",
        "\n",
        "    if x[0] == \"-\":\n",
        "      return expr2latex(x[1]) + \"-\" + expr2latex(x[2])\n",
        "\n",
        "    if x[0] == \"*\":\n",
        "      print(x)\n",
        "      left = expr2latex(x[1])\n",
        "      if isinstance(x[1], list) and x[1][0] == \"+\":\n",
        "        left = \"\\\\left(\" + left + \"\\\\right)\"\n",
        "      right = expr2latex(x[2])\n",
        "      if isinstance(x[2], list) and x[2][0] == \"+\":\n",
        "        right = \"\\\\left(\" + right + \"\\\\right)\"\n",
        "      return left + \"\\\\cdot \" + right\n",
        "\n",
        "    if x[0] == \"/\":\n",
        "      return \"\\\\dfrac{\" + expr2latex(x[1]) + \"}{\" + expr2latex(x[2]) + \"}\"\n",
        "\n",
        "    if x[0] == \"^\":\n",
        "      left = expr2latex(x[1])\n",
        "      if isinstance(x[1], list):\n",
        "        left = \"\\\\left(\" + left + \"\\\\right)\"\n",
        "      right = expr2latex(x[2])\n",
        "      return \"{\" + left + \"}^{\" + right + \"}\"\n",
        "\n",
        "    if x[0] == \"sqrt\":\n",
        "      return \"\\\\sqrt{\" + expr2latex(x[1]) + \"}\"\n",
        "\n",
        "    if x[0] == \"ln\":\n",
        "      a = expr2latex(x[1])\n",
        "      if isinstance(x[1], list):\n",
        "        a = \"\\\\left(\" + a + \"\\\\right)\"\n",
        "      return \"\\\\ln{\" + a + \"}\"\n",
        "\n",
        "    if x[0] == \"lg\":\n",
        "      return \"\\\\lg{\" + expr2latex(x[1]) + \"}\"\n",
        "\n",
        "    if x[0] == \"log\":\n",
        "      return \"\\\\log _{\" + expr2latex(x[2]) + \"} \" + expr2latex(x[1])\n",
        "\n",
        "    if x[0] == \"abs\":\n",
        "      return \"\\\\lvert{\" + expr2latex(x[1]) + \"}\\\\rvert\"\n",
        "\n",
        "    if x[0] == \"sin\" or x[0] == \"cos\" or x[0] == \"tan\" or x[0] == \"arcsin\" or x[0] == \"arccos\" or x[0] == \"arctan\" or x[0] == \"sinh\" or x[0] == \"cosh\" or x[0] == \"tanh\":\n",
        "      a = expr2latex(x[1])\n",
        "      if isinstance(x[1], list):\n",
        "        a = \"\\\\left(\" + a + \"\\\\right)\"\n",
        "      return \"\\\\\" + x[0] + \"{\" + expr2latex(x[1]) + \"}\"\n",
        "      \n",
        "    if x[0] == \"--\":\n",
        "      a = expr2latex(x[1])\n",
        "      if isinstance(x[1], list):\n",
        "        a = \"\\\\left(\" + a + \"\\\\right)\"\n",
        "      return \"-{\" + a + \"}\"\n",
        "    \n",
        "    if x[0] == \"int\":\n",
        "      a = expr2latex(x[1])\n",
        "      if isinstance(x[1], list) and x[1][0] in \"+-\":\n",
        "        a = \"\\\\left(\" + a + \"\\\\right)\"\n",
        "      return \"\\\\int{\" + a + \"}d\" + x[2]\n"
      ],
      "execution_count": 73,
      "outputs": []
    },
    {
      "cell_type": "code",
      "metadata": {
        "id": "dUIZRatZEnEy"
      },
      "source": [
        "def isconstant(f):\n",
        "  operators = ['+', '*', '-', '/', '^', 'sqrt', 'ln', 'lg', 'log', 'abs', \n",
        "               'sin', 'cos', 'tan', 'arcsin', 'arccos', 'arctan', 'sinh', 'cosh', 'tanh']\n",
        "\n",
        "  const = ['exp', 'pi']\n",
        "\n",
        "  if isinstance(f, list):\n",
        "    for i in f:\n",
        "      if isconstant(i) == False:\n",
        "        return False\n",
        "\n",
        "  elif isinstance(f, (int, float)):\n",
        "    return True\n",
        "\n",
        "  elif f in operators:\n",
        "    return True\n",
        "\n",
        "  elif f in const:\n",
        "    return True\n",
        "\n",
        "  else:\n",
        "    return False\n",
        "\n",
        "  return True"
      ],
      "execution_count": 74,
      "outputs": []
    },
    {
      "cell_type": "code",
      "metadata": {
        "id": "HWm5CP2Z_PKb"
      },
      "source": [
        "def isrational(f):\n",
        "  ration_operators = ['+', '*', '-', '/', '--']\n",
        "\n",
        "  operators = ['^', 'sqrt', 'ln', 'lg', 'log', 'abs', \n",
        "               'sin', 'cos', 'tan', 'arcsin', 'arccos', 'arctan', 'sinh', 'cosh', 'tanh']\n",
        "\n",
        "  const = ['exp', 'pi']\n",
        "\n",
        "  if isinstance(f, list):\n",
        "    for i in f:\n",
        "      if isrational(i) == False:\n",
        "        return False\n",
        "\n",
        "  elif isinstance(f, int):\n",
        "    return True\n",
        "\n",
        "  elif f in ration_operators:\n",
        "    return True\n",
        "\n",
        "  elif isinstance(f, str) and f not in operators and f not in const:\n",
        "    return True\n",
        "\n",
        "  else:\n",
        "    return False\n",
        "\n",
        "  return True"
      ],
      "execution_count": 75,
      "outputs": []
    },
    {
      "cell_type": "code",
      "metadata": {
        "id": "cdWUdDK-G5uz"
      },
      "source": [
        "def differentiate(f, x):\n",
        "  if isinstance(f, int):\n",
        "    return 0\n",
        "\n",
        "  if f == x:\n",
        "    return 1\n",
        "\n",
        "  if isinstance(f, str):\n",
        "    return 0\n",
        "\n",
        "  if isinstance(f, list):\n",
        "    if f[0] == \"+\":\n",
        "      u, v = f[1], f[2]\n",
        "      u1, v1 = differentiate(u, x), differentiate(v, x)\n",
        "      return add(u1, v1)\n",
        "\n",
        "    if f[0] == \"-\":\n",
        "      u, v = f[1], f[2]\n",
        "      u1, v1 = differentiate(u, x), differentiate(v, x)\n",
        "      return sub(u1, v1)      \n",
        "\n",
        "    if f[0] == \"*\":\n",
        "      u, v = f[1], f[2]\n",
        "      u1, v1 = differentiate(u, x), differentiate(v, x)\n",
        "      return add(mul(u1, v), mul(u, v1)) \n",
        "\n",
        "    if f[0] == \"/\":\n",
        "      u, v = f[1], f[2]\n",
        "      u1, v1 = differentiate(u, x), differentiate(v, x)\n",
        "      return div(sub(mul(u1, v), mul(u, v1)), fpow(v, 2)) \n",
        "\n",
        "    if f[0] == \"^\":\n",
        "      u, v = f[1], f[2]\n",
        "      u1, v1 = differentiate(u, x), differentiate(v, x)\n",
        "      p1, p2 = fpow(u, v), fpow(u, sub(v, 1))\n",
        "      s1 = mul(p1, mul(v1, fln(u)))\n",
        "      s2 = mul(v, mul(p2, u1))\n",
        "      return add(s1, s2) \n",
        "\n",
        "    if f[0] == \"--\":\n",
        "      u = f[1]\n",
        "      u1 = differentiate(u, x)\n",
        "      return neg(u1)\n",
        "\n",
        "    if f[0] == \"ln\":\n",
        "      u = f[1]\n",
        "      u1 = differentiate(u, x)\n",
        "      return div(u1, u)\n",
        "\n",
        "    if f[0] == \"log\":\n",
        "      u = f[1]\n",
        "      a = f[2]\n",
        "      u1 = differentiate(u, x)\n",
        "      return div(u1, mul(u, fln(a)))\n",
        "\n",
        "    if f[0] == \"lg\":\n",
        "      u = f[1]\n",
        "      u1 = differentiate(u, x)\n",
        "      return div(u1, mul(u, fln(10)))\n",
        "\n",
        "    if f[0] == \"sqrt\":\n",
        "      u = f[1]\n",
        "      u1 = differentiate(u, x)\n",
        "      return div(u1, mul(2, fsqrt(u)))\n",
        "\n",
        "    if f[0] == \"sin\":\n",
        "      u = f[1]\n",
        "      u1 = differentiate(u, x)\n",
        "      return mul(fcos(u), u1)\n",
        "\n",
        "    if f[0] == \"cos\":\n",
        "      u = f[1]\n",
        "      u1 = differentiate(u, x)\n",
        "      return mul(neg(fsin(u)), u1)\n",
        "\n",
        "    if f[0] == \"tan\":\n",
        "      u = f[1]\n",
        "      u1 = differentiate(u, x)\n",
        "      return mul(div(1, fpow(fcos(u), 2)), u1)\n",
        "\n",
        "    if f[0] == \"arcsin\":\n",
        "      u = f[1]\n",
        "      u1 = differentiate(u, x)\n",
        "      return mul(div(1, fsqrt(sub(1,fpow(u, 2)))), u1)\n",
        "\n",
        "    if f[0] == \"arccos\":\n",
        "      u = f[1]\n",
        "      u1 = differentiate(u, x)\n",
        "      return neg(mul(div(1, fsqrt(sub(1,fpow(u, 2)))), u1))\n",
        "\n",
        "    if f[0] == \"arctan\":\n",
        "      u = f[1]\n",
        "      u1 = differentiate(u, x)\n",
        "      return mul(div(1, add(1,fpow(u, 2))), u1)\n",
        "\n",
        "    if f[0] == \"sinh\":\n",
        "      u = f[1]\n",
        "      u1 = differentiate(u, x)\n",
        "      return mul(fcosh(u), u1)\n",
        "\n",
        "    if f[0] == \"cosh\":\n",
        "      u = f[1]\n",
        "      u1 = differentiate(u, x)\n",
        "      return mul(fsinh(u), u1)\n",
        "\n",
        "    if f[0] == \"tanh\":\n",
        "      u = f[1]\n",
        "      u1 = differentiate(u, x)\n",
        "      return mul(div(1, fpow(fcosh(u), 2)), u1)"
      ],
      "execution_count": 76,
      "outputs": []
    },
    {
      "cell_type": "code",
      "metadata": {
        "id": "Nz_JPn5bpXic"
      },
      "source": [
        "#Задание 5. Упрощение.\n",
        "\n",
        "def simplify(f):\n",
        "  if isinstance(f, list):\n",
        "    r = [f[0]]\n",
        "    for x in f[1:]:\n",
        "      r.append(simplify(x))\n",
        "\n",
        "    if r[0] == \"+\":\n",
        "      if isinstance(r[1], int) and isinstance(r[2], int):\n",
        "        return r[1] + r[2] \n",
        "      if r[1] == 0: \n",
        "        return r[2]\n",
        "      if r[2] == 0:\n",
        "        return r[1]\n",
        "      if r[1] == r[2]:\n",
        "        return mul(2, r[1])\n",
        "      if isinstance(r[2], list) and r[2][0] == \"--\": # unary minus\n",
        "        return simplify(sub(r[1], r[2][1]))\n",
        "\n",
        "    if r[0] == \"-\":\n",
        "      if isinstance(r[1], int) and isinstance(r[2], int):\n",
        "        return r[1] - r[2]\n",
        "      if r[1] == 0: \n",
        "        return neg(r[2])\n",
        "      if r[2] == 0:\n",
        "        return r[1]\n",
        "      if r[1] == r[2]:\n",
        "        return 0\n",
        "      if isinstance(r[2], list) and r[2][0] == \"--\": # unary minus\n",
        "        return simplify(add(r[1], r[2][1]))\n",
        "\n",
        "    if r[0] == \"*\":\n",
        "      if isinstance(r[1], int) and isinstance(r[2], int):\n",
        "        return r[1] * r[2] \n",
        "      if r[1] == 0 or r[2] == 0: \n",
        "        return 0\n",
        "      if r[1] == 1:\n",
        "        return r[2]\n",
        "      if r[2] == 1:\n",
        "        return r[1]\n",
        "      if r[1] == r[2]:\n",
        "        return fpow(r[1], 2)\n",
        "      if isinstance(r[1], list) and isinstance(r[2], list) and r[1][0] == \"^\" and r[2][0] == \"^\" and r[1][1] == r[2][1]:\n",
        "        return simplify(fpow(r[1][1] , r[1][2] + r[2][2]))\n",
        "\n",
        "    if r[0] == \"/\":\n",
        "      if isinstance(r[1], int) and isinstance(r[2], int):\n",
        "        x = r[1]\n",
        "        y = r[2]\n",
        "        while x!=0 and y!=0:\n",
        "          if x > y:\n",
        "            x = x % y\n",
        "          else:\n",
        "            y = y % x\n",
        "        \n",
        "        r[1] = int(r[1]/(x+y))\n",
        "        r[2] = int(r[2]/(x+y))\n",
        "\n",
        "        return div(r[1],r[2])\n",
        "      if r[1] == 0: \n",
        "        return 0\n",
        "      if r[2] == 0: \n",
        "        return 'infty'\n",
        "      if r[2] == 1:\n",
        "        return r[1]\n",
        "\n",
        "      if isinstance(r[1], list) and isinstance(r[2], list) and r[1][0] == \"^\" and r[2][0] == \"^\" and r[1][1] == r[2][1]:\n",
        "        return simplify(fpow(r[1][1] , r[1][2] - r[2][2]))\n",
        "\n",
        "    if r[0] == \"^\":\n",
        "      if isinstance(r[1], int) and isinstance(r[2], int) and r[2] > 0:\n",
        "        return r[1] ** r[2] \n",
        "      if r[2] == 1: \n",
        "        return r[1]\n",
        "      if isinstance(r[1], list) and r[1][0] == \"^\":\n",
        "        return simplify(fpow(r[1][1], r[1][2] + r[2]))\n",
        "      if isinstance(r[1], list) and r[1][0] == \"*\":\n",
        "        return simplify(mul(fpow(r[1][1], r[2]), fpow(r[1][2], r[2])))\n",
        "      if isinstance(r[1], list) and r[1][0] == \"/\":\n",
        "        return simplify(div(fpow(r[1][1], r[2]), fpow(r[1][2], r[2])))\n",
        "\n",
        "    if r[0] == \"sqrt\":\n",
        "      if isinstance(r[1], int):\n",
        "        if len(Max_Factor(r[1])) == 1:\n",
        "          a = int(math.sqrt(r[1]))\n",
        "          if a * a == r[1]:\n",
        "            return a\n",
        "          return r\n",
        "        else:\n",
        "          left = 1\n",
        "          right = 1\n",
        "          for i in Max_Factor(r[1]):\n",
        "            if math.sqrt(i)%1 == 0.0:\n",
        "              left *= math.sqrt(i)\n",
        "            else:\n",
        "              right *= i\n",
        "          return mul(int(left), fsqrt(right))\n",
        "    return r\n",
        "  return f "
      ],
      "execution_count": 77,
      "outputs": []
    },
    {
      "cell_type": "code",
      "metadata": {
        "id": "AuFmxI-9Eh-N"
      },
      "source": [
        "#Задание 6. Интегрирование.\n",
        "\n",
        "def integral(f, x):\n",
        "  return [\"int\", f, x]\n",
        "\n",
        "def contains(f, x):\n",
        "  if f == x:\n",
        "    return True\n",
        "  if isinstance(f, (int, str)):\n",
        "    return False\n",
        "  if isinstance(f, list):\n",
        "    for a in f:\n",
        "      if contains(a, x):\n",
        "        return True\n",
        "  return False\n",
        "\n",
        "def integrate(f, x):\n",
        "  if not contains(f, x):\n",
        "    return mul(f, x)\n",
        "  if f == x:\n",
        "    return mul(div(1, 2), fpow(x, 2))\n",
        "  if isinstance(f, list):\n",
        "    if f[0] == \"cos\" and f[1] == x:\n",
        "      return fsin(x)\n",
        "\n",
        "    if f[0] == \"sin\" and f[1] == x:\n",
        "      return neg(fcos(x))\n",
        "\n",
        "    if f[0] == \"sqrt\" and f[1] == x:\n",
        "      return mul(div(2, 3), mul(x, fsqrt(x)))\n",
        "\n",
        "    if f[0] == \"^\" and f[1] == x and not contains(f[2], x):\n",
        "      if f[2] == -1:\n",
        "        return fln(x)\n",
        "      else:\n",
        "        return mul(div(1, add(f[2], 1)), fpow(x, add(f[2], 1))) \n",
        "    if f[0] == \"^\" and f[2] == x and not contains(f[1], x):\n",
        "      return mul(div(1, fln(f[1])), f)\n",
        "\n",
        "    if f[0] in \"+-\":\n",
        "      a = integrate(f[1], x)\n",
        "      b = integrate(f[2], x)\n",
        "      return [f[0], a, b]\n",
        "\n",
        "    if f[0] == \"*\" and not contains(f[1], x):\n",
        "      a = integrate(f[2], x)\n",
        "      return mul(f[1], a)\n",
        "\n",
        "    if f[0] == \"*\" and not contains(f[2], x):\n",
        "      a = integrate(f[1], x)\n",
        "      return mul(f[2], a)\n",
        "\n",
        "    if f[0] == \"/\" and not contains(f[2], x):\n",
        "      a = integrate(f[1], x)\n",
        "      return mul(div(1, f[2]), a)\n",
        "      \n",
        "    if f[0] == \"*\" and f[1] == x:\n",
        "      t = x + \"t\"\n",
        "      g = substitute(f[2], fpow(x, 2), t)\n",
        "      #Expression(g).show()\n",
        "      if not contains(g, x):\n",
        "        G = integrate(g, t)\n",
        "        if not contains(G, \"int\"): \n",
        "          F = substitute(G, t, fpow(x, 2))\n",
        "          return mul(div(1, 2), F)\n",
        "\n",
        "  return integral(f, x)"
      ],
      "execution_count": 78,
      "outputs": []
    },
    {
      "cell_type": "code",
      "metadata": {
        "id": "rlHM1lr7OAM6"
      },
      "source": [
        "class Expression:\n",
        "  def __init__(self, f):\n",
        "    self.f = f\n",
        "\n",
        "  def __add__(self, x):\n",
        "    x = check(x)\n",
        "    return Expression(add(self.f, x.f))\n",
        "\n",
        "  def __mul__(self, x):\n",
        "    x = check(x)\n",
        "    return Expression(mul(self.f, x.f))\n",
        "\n",
        "  def __truediv__(self, x):\n",
        "    x = check(x)\n",
        "    return Expression(div(self.f, x.f))\n",
        "\n",
        "  def __sub__(self, x):\n",
        "    x = check(x)\n",
        "    return Expression(sub(self.f, x.f))\n",
        "\n",
        "  def __pow__(self, x):\n",
        "    x = check(x)\n",
        "    return Expression(fpow(self.f, x.f))\n",
        "\n",
        "  def __neg__(self):\n",
        "    return Expression(neg(self.f))\n",
        "\n",
        "  def sqrt(self):\n",
        "    return Expression(fsqrt(check(self).f))\n",
        "\n",
        "  def ln(self):\n",
        "    return Expression(fln(check(self).f))  \n",
        "\n",
        "  def lg(self):\n",
        "    return Expression(flg(check(self).f)) \n",
        "\n",
        "  def log(self, x):\n",
        "    x = check(x)\n",
        "    return Expression(flog(self.f, x.f))  \n",
        "\n",
        "  def abs(self):\n",
        "    return Expression(fabs(check(self).f))\n",
        "\n",
        "  def sin(self):\n",
        "    return Expression(fsin(check(self).f)) \n",
        "    \n",
        "  def cos(self):\n",
        "    return Expression(fcos(check(self).f)) \n",
        "\n",
        "  def tan(self):\n",
        "    return Expression(ftan(check(self).f)) \n",
        "\n",
        "  def arcsin(self):\n",
        "    return Expression(farcsin(check(self).f)) \n",
        "\n",
        "  def arccos(self):\n",
        "    return Expression(farccos(check(self).f))\n",
        "\n",
        "  def arctan(self):\n",
        "    return Expression(farctan(check(self).f)) \n",
        "\n",
        "  def sinh(self):\n",
        "    return Expression(fsinh(check(self).f)) \n",
        "\n",
        "  def cosh(self):\n",
        "    return Expression(fcosh(check(self).f)) \n",
        "\n",
        "  def tanh(self):\n",
        "    return Expression(ftanh(check(self).f)) \n",
        "\n",
        "  def exp():\n",
        "    return Expression('e')\n",
        "\n",
        "  def pi():\n",
        "    return Expression('pi')\n",
        "\n",
        "  def evalf(self):\n",
        "    return evaluate(self.f)\n",
        "  \n",
        "  def subs(self, var, val):\n",
        "    return Expression(substitute(self.f, var, val))\n",
        "\n",
        "  def show(self):\n",
        "    display(Math(expr2latex(self.f)))\n",
        "\n",
        "  def isconst(self):\n",
        "    return isconstant(self.f)\n",
        "\n",
        "  def israt(self):\n",
        "    return isrational(self.f)\n",
        "    \n",
        "  def diff(self, var):\n",
        "    var = check(var).f\n",
        "    return Expression(differentiate(self.f, var))\n",
        "\n",
        "  def simp(self):\n",
        "    return Expression(simplify(self.f))\n",
        "\n",
        "  def intg(self, var):\n",
        "    var = check(var).f\n",
        "    return Expression(integrate(self.f, var))"
      ],
      "execution_count": 79,
      "outputs": []
    },
    {
      "cell_type": "code",
      "metadata": {
        "colab": {
          "base_uri": "https://localhost:8080/"
        },
        "id": "4s69eIT2RSLL",
        "outputId": "94703ec3-d88c-4325-b65c-d337394b4a5c"
      },
      "source": [
        "x = Expression('x')\n",
        "y = Expression('y')\n",
        "z = (x + y) ** 0.4\n",
        "z.f"
      ],
      "execution_count": 80,
      "outputs": [
        {
          "output_type": "execute_result",
          "data": {
            "text/plain": [
              "['^', ['+', 'x', 'y'], 0.4]"
            ]
          },
          "metadata": {
            "tags": []
          },
          "execution_count": 80
        }
      ]
    },
    {
      "cell_type": "code",
      "metadata": {
        "colab": {
          "base_uri": "https://localhost:8080/"
        },
        "id": "3b-LZ6k4ScrB",
        "outputId": "58de2937-7e66-48ae-ddd9-33e9af6b2796"
      },
      "source": [
        "z = x.ln() + y.log(2)\n",
        "z.f"
      ],
      "execution_count": 81,
      "outputs": [
        {
          "output_type": "execute_result",
          "data": {
            "text/plain": [
              "['+', ['ln', 'x'], ['log', 'y', 2]]"
            ]
          },
          "metadata": {
            "tags": []
          },
          "execution_count": 81
        }
      ]
    },
    {
      "cell_type": "code",
      "metadata": {
        "colab": {
          "base_uri": "https://localhost:8080/"
        },
        "id": "SH1rWrhOYU73",
        "outputId": "22e4fe3e-2942-4f6f-bc18-58d3f11316bf"
      },
      "source": [
        "z = x.abs()\n",
        "z.f"
      ],
      "execution_count": 82,
      "outputs": [
        {
          "output_type": "execute_result",
          "data": {
            "text/plain": [
              "['abs', 'x']"
            ]
          },
          "metadata": {
            "tags": []
          },
          "execution_count": 82
        }
      ]
    },
    {
      "cell_type": "code",
      "metadata": {
        "colab": {
          "base_uri": "https://localhost:8080/"
        },
        "id": "QmDdsu-Bbiwm",
        "outputId": "312968b0-ebca-4e49-8751-39fcf6e8ce21"
      },
      "source": [
        "z = x.sinh()\n",
        "print(z.f)\n",
        "print(Expression.exp())\n",
        "print(Expression.pi())"
      ],
      "execution_count": 83,
      "outputs": [
        {
          "output_type": "stream",
          "text": [
            "['sinh', 'x']\n",
            "<__main__.Expression object at 0x7fbe9eb286d0>\n",
            "<__main__.Expression object at 0x7fbe9ea92390>\n"
          ],
          "name": "stdout"
        }
      ]
    },
    {
      "cell_type": "code",
      "metadata": {
        "colab": {
          "base_uri": "https://localhost:8080/"
        },
        "id": "oPYWFyTUmGo2",
        "outputId": "302afece-84ef-4653-96cf-268194358cde"
      },
      "source": [
        "z = Expression.abs(-2) + Expression.abs(-2)\n",
        "print(z.f)\n",
        "z.evalf()"
      ],
      "execution_count": 84,
      "outputs": [
        {
          "output_type": "stream",
          "text": [
            "['+', ['abs', -2], ['abs', -2]]\n"
          ],
          "name": "stdout"
        },
        {
          "output_type": "execute_result",
          "data": {
            "text/plain": [
              "4.0"
            ]
          },
          "metadata": {
            "tags": []
          },
          "execution_count": 84
        }
      ]
    },
    {
      "cell_type": "code",
      "metadata": {
        "colab": {
          "base_uri": "https://localhost:8080/"
        },
        "id": "5bEY8FG_tkdj",
        "outputId": "42992fe3-6d49-4598-b18e-937fdc311db0"
      },
      "source": [
        "z = x + Expression(2) * x\n",
        "print(z.f)\n",
        "\n",
        "print(z.subs('x', 3).f)"
      ],
      "execution_count": 85,
      "outputs": [
        {
          "output_type": "stream",
          "text": [
            "['+', 'x', ['*', 2, 'x']]\n",
            "['+', 3, ['*', 2, 3]]\n"
          ],
          "name": "stdout"
        }
      ]
    },
    {
      "cell_type": "code",
      "metadata": {
        "colab": {
          "base_uri": "https://localhost:8080/",
          "height": 406
        },
        "id": "Z75ZNvt8-W9i",
        "outputId": "93681d13-186e-46e1-d8fa-b959b306f125"
      },
      "source": [
        "z = x + y\n",
        "print(z.f)\n",
        "z.show()\n",
        "\n",
        "z = x - y\n",
        "print(z.f)\n",
        "z.show()\n",
        "\n",
        "z = x * y\n",
        "print(z.f)\n",
        "z.show()\n",
        "\n",
        "z = x / y\n",
        "print(z.f)\n",
        "z.show()\n",
        "\n",
        "z = x ** y\n",
        "print(z.f)\n",
        "z.show()\n",
        "\n",
        "z = x.sqrt() + y.sqrt() \n",
        "print(z.f)\n",
        "z.show()\n",
        "\n",
        "z = x.ln() + y.lg() \n",
        "print(z.f)\n",
        "z.show()\n",
        "\n",
        "z = z.abs()\n",
        "print(z.f)\n",
        "z.show()\n",
        "\n",
        "z = x.sin() + y.cos() + x.tan() + y.arcsin() + x.arccos() + y.arctan() + x.sinh() + y.cosh() + x.tanh()\n",
        "print(z.f)\n",
        "z.show()"
      ],
      "execution_count": 86,
      "outputs": [
        {
          "output_type": "stream",
          "text": [
            "['+', 'x', 'y']\n"
          ],
          "name": "stdout"
        },
        {
          "output_type": "display_data",
          "data": {
            "text/latex": "$$x+y$$",
            "text/plain": [
              "<IPython.core.display.Math object>"
            ]
          },
          "metadata": {
            "tags": []
          }
        },
        {
          "output_type": "stream",
          "text": [
            "['-', 'x', 'y']\n"
          ],
          "name": "stdout"
        },
        {
          "output_type": "display_data",
          "data": {
            "text/latex": "$$x-y$$",
            "text/plain": [
              "<IPython.core.display.Math object>"
            ]
          },
          "metadata": {
            "tags": []
          }
        },
        {
          "output_type": "stream",
          "text": [
            "['*', 'x', 'y']\n",
            "['*', 'x', 'y']\n"
          ],
          "name": "stdout"
        },
        {
          "output_type": "display_data",
          "data": {
            "text/latex": "$$x\\cdot y$$",
            "text/plain": [
              "<IPython.core.display.Math object>"
            ]
          },
          "metadata": {
            "tags": []
          }
        },
        {
          "output_type": "stream",
          "text": [
            "['/', 'x', 'y']\n"
          ],
          "name": "stdout"
        },
        {
          "output_type": "display_data",
          "data": {
            "text/latex": "$$\\dfrac{x}{y}$$",
            "text/plain": [
              "<IPython.core.display.Math object>"
            ]
          },
          "metadata": {
            "tags": []
          }
        },
        {
          "output_type": "stream",
          "text": [
            "['^', 'x', 'y']\n"
          ],
          "name": "stdout"
        },
        {
          "output_type": "display_data",
          "data": {
            "text/latex": "$${x}^{y}$$",
            "text/plain": [
              "<IPython.core.display.Math object>"
            ]
          },
          "metadata": {
            "tags": []
          }
        },
        {
          "output_type": "stream",
          "text": [
            "['+', ['sqrt', 'x'], ['sqrt', 'y']]\n"
          ],
          "name": "stdout"
        },
        {
          "output_type": "display_data",
          "data": {
            "text/latex": "$$\\sqrt{x}+\\sqrt{y}$$",
            "text/plain": [
              "<IPython.core.display.Math object>"
            ]
          },
          "metadata": {
            "tags": []
          }
        },
        {
          "output_type": "stream",
          "text": [
            "['+', ['ln', 'x'], ['lg', 'y']]\n"
          ],
          "name": "stdout"
        },
        {
          "output_type": "display_data",
          "data": {
            "text/latex": "$$\\ln{x}+\\lg{y}$$",
            "text/plain": [
              "<IPython.core.display.Math object>"
            ]
          },
          "metadata": {
            "tags": []
          }
        },
        {
          "output_type": "stream",
          "text": [
            "['abs', ['+', ['ln', 'x'], ['lg', 'y']]]\n"
          ],
          "name": "stdout"
        },
        {
          "output_type": "display_data",
          "data": {
            "text/latex": "$$\\lvert{\\ln{x}+\\lg{y}}\\rvert$$",
            "text/plain": [
              "<IPython.core.display.Math object>"
            ]
          },
          "metadata": {
            "tags": []
          }
        },
        {
          "output_type": "stream",
          "text": [
            "['+', ['+', ['+', ['+', ['+', ['+', ['+', ['+', ['sin', 'x'], ['cos', 'y']], ['tan', 'x']], ['arcsin', 'y']], ['arccos', 'x']], ['arctan', 'y']], ['sinh', 'x']], ['cosh', 'y']], ['tanh', 'x']]\n"
          ],
          "name": "stdout"
        },
        {
          "output_type": "display_data",
          "data": {
            "text/latex": "$$\\sin{x}+\\cos{y}+\\tan{x}+\\arcsin{y}+\\arccos{x}+\\arctan{y}+\\sinh{x}+\\cosh{y}+\\tanh{x}$$",
            "text/plain": [
              "<IPython.core.display.Math object>"
            ]
          },
          "metadata": {
            "tags": []
          }
        }
      ]
    },
    {
      "cell_type": "code",
      "metadata": {
        "colab": {
          "base_uri": "https://localhost:8080/"
        },
        "id": "7RDYKr18O6u2",
        "outputId": "734c8ec2-1656-4650-8d98-f3a00d038eeb"
      },
      "source": [
        "z = Expression(2) + Expression(2) * Expression(2)\n",
        "print(z.f)\n",
        "z.isconst()"
      ],
      "execution_count": 87,
      "outputs": [
        {
          "output_type": "stream",
          "text": [
            "['+', 2, ['*', 2, 2]]\n"
          ],
          "name": "stdout"
        },
        {
          "output_type": "execute_result",
          "data": {
            "text/plain": [
              "True"
            ]
          },
          "metadata": {
            "tags": []
          },
          "execution_count": 87
        }
      ]
    },
    {
      "cell_type": "code",
      "metadata": {
        "colab": {
          "base_uri": "https://localhost:8080/",
          "height": 75
        },
        "id": "bjnzLmht-DCf",
        "outputId": "a80dd0b7-6938-4a93-8690-660f58b45ebc"
      },
      "source": [
        "z = x * Expression.exp()**2\n",
        "print(z.f)\n",
        "z.show()"
      ],
      "execution_count": 88,
      "outputs": [
        {
          "output_type": "stream",
          "text": [
            "['*', 'x', ['^', 'e', 2]]\n",
            "['*', 'x', ['^', 'e', 2]]\n"
          ],
          "name": "stdout"
        },
        {
          "output_type": "display_data",
          "data": {
            "text/latex": "$$x\\cdot {e}^{2}$$",
            "text/plain": [
              "<IPython.core.display.Math object>"
            ]
          },
          "metadata": {
            "tags": []
          }
        }
      ]
    },
    {
      "cell_type": "code",
      "metadata": {
        "colab": {
          "base_uri": "https://localhost:8080/",
          "height": 135
        },
        "id": "Qgztu5tMHS7O",
        "outputId": "326c806f-d813-468e-a97a-8de6fbfe4dac"
      },
      "source": [
        "z = x.tanh()\n",
        "print(z.f)\n",
        "z.show()\n",
        "print(differentiate(z.f, x))\n",
        "Expression(differentiate(z.f, 'x')).show()"
      ],
      "execution_count": 89,
      "outputs": [
        {
          "output_type": "stream",
          "text": [
            "['tanh', 'x']\n"
          ],
          "name": "stdout"
        },
        {
          "output_type": "display_data",
          "data": {
            "text/latex": "$$\\tanh{x}$$",
            "text/plain": [
              "<IPython.core.display.Math object>"
            ]
          },
          "metadata": {
            "tags": []
          }
        },
        {
          "output_type": "stream",
          "text": [
            "['*', ['/', 1, ['^', ['cosh', 'x'], 2]], 0]\n",
            "['*', ['/', 1, ['^', ['cosh', 'x'], 2]], 1]\n"
          ],
          "name": "stdout"
        },
        {
          "output_type": "display_data",
          "data": {
            "text/latex": "$$\\dfrac{1}{{\\left(\\cosh{x}\\right)}^{2}}\\cdot 1$$",
            "text/plain": [
              "<IPython.core.display.Math object>"
            ]
          },
          "metadata": {
            "tags": []
          }
        }
      ]
    },
    {
      "cell_type": "code",
      "metadata": {
        "colab": {
          "base_uri": "https://localhost:8080/",
          "height": 1000
        },
        "id": "yoBKRSCCKozX",
        "outputId": "1c3fe085-7acd-4a9b-9407-256411501a3b"
      },
      "source": [
        "z = x + y\n",
        "print(z.f)\n",
        "z.show()\n",
        "print(z.diff(x).f)\n",
        "z.diff(x).show()\n",
        "\n",
        "z = x - y\n",
        "print(z.f)\n",
        "z.show()\n",
        "print(z.diff(x).f)\n",
        "z.diff(x).show()\n",
        "\n",
        "z = x * y\n",
        "print(z.f)\n",
        "z.show()\n",
        "print(z.diff(x).f)\n",
        "z.diff(x).show()\n",
        "\n",
        "z = x / y\n",
        "print(z.f)\n",
        "z.show()\n",
        "print(z.diff(x).f)\n",
        "z.diff(x).show()\n",
        "\n",
        "z = x ** y\n",
        "print(z.f)\n",
        "z.show()\n",
        "print(z.diff(x).f)\n",
        "z.diff(x).show()\n",
        "\n",
        "z = x.sqrt() + y.sqrt() \n",
        "print(z.f)\n",
        "z.show()\n",
        "print(z.diff(x).f)\n",
        "z.diff(x).show()\n",
        "\n",
        "z = x.ln() + y.lg() \n",
        "print(z.f)\n",
        "z.show()\n",
        "print(z.diff(x).f)\n",
        "z.diff(x).show()\n",
        "\n",
        "z = x.sin() + y.cos() + x.tan() + y.arcsin() + x.arccos() + y.arctan() + x.sinh() + y.cosh() + x.tanh()\n",
        "print(z.f)\n",
        "z.show()\n",
        "print(z.diff(x).f)\n",
        "z.diff(x).show()"
      ],
      "execution_count": 90,
      "outputs": [
        {
          "output_type": "stream",
          "text": [
            "['+', 'x', 'y']\n"
          ],
          "name": "stdout"
        },
        {
          "output_type": "display_data",
          "data": {
            "text/latex": "$$x+y$$",
            "text/plain": [
              "<IPython.core.display.Math object>"
            ]
          },
          "metadata": {
            "tags": []
          }
        },
        {
          "output_type": "stream",
          "text": [
            "['+', 1, 0]\n"
          ],
          "name": "stdout"
        },
        {
          "output_type": "display_data",
          "data": {
            "text/latex": "$$1+0$$",
            "text/plain": [
              "<IPython.core.display.Math object>"
            ]
          },
          "metadata": {
            "tags": []
          }
        },
        {
          "output_type": "stream",
          "text": [
            "['-', 'x', 'y']\n"
          ],
          "name": "stdout"
        },
        {
          "output_type": "display_data",
          "data": {
            "text/latex": "$$x-y$$",
            "text/plain": [
              "<IPython.core.display.Math object>"
            ]
          },
          "metadata": {
            "tags": []
          }
        },
        {
          "output_type": "stream",
          "text": [
            "['-', 1, 0]\n"
          ],
          "name": "stdout"
        },
        {
          "output_type": "display_data",
          "data": {
            "text/latex": "$$1-0$$",
            "text/plain": [
              "<IPython.core.display.Math object>"
            ]
          },
          "metadata": {
            "tags": []
          }
        },
        {
          "output_type": "stream",
          "text": [
            "['*', 'x', 'y']\n",
            "['*', 'x', 'y']\n"
          ],
          "name": "stdout"
        },
        {
          "output_type": "display_data",
          "data": {
            "text/latex": "$$x\\cdot y$$",
            "text/plain": [
              "<IPython.core.display.Math object>"
            ]
          },
          "metadata": {
            "tags": []
          }
        },
        {
          "output_type": "stream",
          "text": [
            "['+', ['*', 1, 'y'], ['*', 'x', 0]]\n",
            "['*', 1, 'y']\n",
            "['*', 'x', 0]\n"
          ],
          "name": "stdout"
        },
        {
          "output_type": "display_data",
          "data": {
            "text/latex": "$$1\\cdot y+x\\cdot 0$$",
            "text/plain": [
              "<IPython.core.display.Math object>"
            ]
          },
          "metadata": {
            "tags": []
          }
        },
        {
          "output_type": "stream",
          "text": [
            "['/', 'x', 'y']\n"
          ],
          "name": "stdout"
        },
        {
          "output_type": "display_data",
          "data": {
            "text/latex": "$$\\dfrac{x}{y}$$",
            "text/plain": [
              "<IPython.core.display.Math object>"
            ]
          },
          "metadata": {
            "tags": []
          }
        },
        {
          "output_type": "stream",
          "text": [
            "['/', ['-', ['*', 1, 'y'], ['*', 'x', 0]], ['^', 'y', 2]]\n",
            "['*', 1, 'y']\n",
            "['*', 'x', 0]\n"
          ],
          "name": "stdout"
        },
        {
          "output_type": "display_data",
          "data": {
            "text/latex": "$$\\dfrac{1\\cdot y-x\\cdot 0}{{y}^{2}}$$",
            "text/plain": [
              "<IPython.core.display.Math object>"
            ]
          },
          "metadata": {
            "tags": []
          }
        },
        {
          "output_type": "stream",
          "text": [
            "['^', 'x', 'y']\n"
          ],
          "name": "stdout"
        },
        {
          "output_type": "display_data",
          "data": {
            "text/latex": "$${x}^{y}$$",
            "text/plain": [
              "<IPython.core.display.Math object>"
            ]
          },
          "metadata": {
            "tags": []
          }
        },
        {
          "output_type": "stream",
          "text": [
            "['+', ['*', ['^', 'x', 'y'], ['*', 0, ['ln', 'x']]], ['*', 'y', ['*', ['^', 'x', ['-', 'y', 1]], 1]]]\n",
            "['*', ['^', 'x', 'y'], ['*', 0, ['ln', 'x']]]\n",
            "['*', 0, ['ln', 'x']]\n",
            "['*', 'y', ['*', ['^', 'x', ['-', 'y', 1]], 1]]\n",
            "['*', ['^', 'x', ['-', 'y', 1]], 1]\n"
          ],
          "name": "stdout"
        },
        {
          "output_type": "display_data",
          "data": {
            "text/latex": "$${x}^{y}\\cdot 0\\cdot \\ln{x}+y\\cdot {x}^{y-1}\\cdot 1$$",
            "text/plain": [
              "<IPython.core.display.Math object>"
            ]
          },
          "metadata": {
            "tags": []
          }
        },
        {
          "output_type": "stream",
          "text": [
            "['+', ['sqrt', 'x'], ['sqrt', 'y']]\n"
          ],
          "name": "stdout"
        },
        {
          "output_type": "display_data",
          "data": {
            "text/latex": "$$\\sqrt{x}+\\sqrt{y}$$",
            "text/plain": [
              "<IPython.core.display.Math object>"
            ]
          },
          "metadata": {
            "tags": []
          }
        },
        {
          "output_type": "stream",
          "text": [
            "['+', ['/', 1, ['*', 2, ['sqrt', 'x']]], ['/', 0, ['*', 2, ['sqrt', 'y']]]]\n",
            "['*', 2, ['sqrt', 'x']]\n",
            "['*', 2, ['sqrt', 'y']]\n"
          ],
          "name": "stdout"
        },
        {
          "output_type": "display_data",
          "data": {
            "text/latex": "$$\\dfrac{1}{2\\cdot \\sqrt{x}}+\\dfrac{0}{2\\cdot \\sqrt{y}}$$",
            "text/plain": [
              "<IPython.core.display.Math object>"
            ]
          },
          "metadata": {
            "tags": []
          }
        },
        {
          "output_type": "stream",
          "text": [
            "['+', ['ln', 'x'], ['lg', 'y']]\n"
          ],
          "name": "stdout"
        },
        {
          "output_type": "display_data",
          "data": {
            "text/latex": "$$\\ln{x}+\\lg{y}$$",
            "text/plain": [
              "<IPython.core.display.Math object>"
            ]
          },
          "metadata": {
            "tags": []
          }
        },
        {
          "output_type": "stream",
          "text": [
            "['+', ['/', 1, 'x'], ['/', 0, ['*', 'y', ['ln', 10]]]]\n",
            "['*', 'y', ['ln', 10]]\n"
          ],
          "name": "stdout"
        },
        {
          "output_type": "display_data",
          "data": {
            "text/latex": "$$\\dfrac{1}{x}+\\dfrac{0}{y\\cdot \\ln{10}}$$",
            "text/plain": [
              "<IPython.core.display.Math object>"
            ]
          },
          "metadata": {
            "tags": []
          }
        },
        {
          "output_type": "stream",
          "text": [
            "['+', ['+', ['+', ['+', ['+', ['+', ['+', ['+', ['sin', 'x'], ['cos', 'y']], ['tan', 'x']], ['arcsin', 'y']], ['arccos', 'x']], ['arctan', 'y']], ['sinh', 'x']], ['cosh', 'y']], ['tanh', 'x']]\n"
          ],
          "name": "stdout"
        },
        {
          "output_type": "display_data",
          "data": {
            "text/latex": "$$\\sin{x}+\\cos{y}+\\tan{x}+\\arcsin{y}+\\arccos{x}+\\arctan{y}+\\sinh{x}+\\cosh{y}+\\tanh{x}$$",
            "text/plain": [
              "<IPython.core.display.Math object>"
            ]
          },
          "metadata": {
            "tags": []
          }
        },
        {
          "output_type": "stream",
          "text": [
            "['+', ['+', ['+', ['+', ['+', ['+', ['+', ['+', ['*', ['cos', 'x'], 1], ['*', ['--', ['sin', 'y']], 0]], ['*', ['/', 1, ['^', ['cos', 'x'], 2]], 1]], ['*', ['/', 1, ['sqrt', ['-', 1, ['^', 'y', 2]]]], 0]], ['--', ['*', ['/', 1, ['sqrt', ['-', 1, ['^', 'x', 2]]]], 1]]], ['*', ['/', 1, ['+', 1, ['^', 'y', 2]]], 0]], ['*', ['cosh', 'x'], 1]], ['*', ['sinh', 'y'], 0]], ['*', ['/', 1, ['^', ['cosh', 'x'], 2]], 1]]\n",
            "['*', ['cos', 'x'], 1]\n",
            "['*', ['--', ['sin', 'y']], 0]\n",
            "['*', ['/', 1, ['^', ['cos', 'x'], 2]], 1]\n",
            "['*', ['/', 1, ['sqrt', ['-', 1, ['^', 'y', 2]]]], 0]\n",
            "['*', ['/', 1, ['sqrt', ['-', 1, ['^', 'x', 2]]]], 1]\n",
            "['*', ['/', 1, ['+', 1, ['^', 'y', 2]]], 0]\n",
            "['*', ['cosh', 'x'], 1]\n",
            "['*', ['sinh', 'y'], 0]\n",
            "['*', ['/', 1, ['^', ['cosh', 'x'], 2]], 1]\n"
          ],
          "name": "stdout"
        },
        {
          "output_type": "display_data",
          "data": {
            "text/latex": "$$\\cos{x}\\cdot 1+-{\\left(\\sin{y}\\right)}\\cdot 0+\\dfrac{1}{{\\left(\\cos{x}\\right)}^{2}}\\cdot 1+\\dfrac{1}{\\sqrt{1-{y}^{2}}}\\cdot 0+-{\\left(\\dfrac{1}{\\sqrt{1-{x}^{2}}}\\cdot 1\\right)}+\\dfrac{1}{1+{y}^{2}}\\cdot 0+\\cosh{x}\\cdot 1+\\sinh{y}\\cdot 0+\\dfrac{1}{{\\left(\\cosh{x}\\right)}^{2}}\\cdot 1$$",
            "text/plain": [
              "<IPython.core.display.Math object>"
            ]
          },
          "metadata": {
            "tags": []
          }
        }
      ]
    },
    {
      "cell_type": "code",
      "metadata": {
        "id": "LIlodNx2TC2_",
        "colab": {
          "base_uri": "https://localhost:8080/",
          "height": 170
        },
        "outputId": "595be36c-4cb7-430b-8a6c-7fbbe8323454"
      },
      "source": [
        "z = y ** x\n",
        "print(z.f)\n",
        "z.show()\n",
        "print(z.diff(x).f)\n",
        "z.diff(x).show()"
      ],
      "execution_count": 91,
      "outputs": [
        {
          "output_type": "stream",
          "text": [
            "['^', 'y', 'x']\n"
          ],
          "name": "stdout"
        },
        {
          "output_type": "display_data",
          "data": {
            "text/latex": "$${y}^{x}$$",
            "text/plain": [
              "<IPython.core.display.Math object>"
            ]
          },
          "metadata": {
            "tags": []
          }
        },
        {
          "output_type": "stream",
          "text": [
            "['+', ['*', ['^', 'y', 'x'], ['*', 1, ['ln', 'y']]], ['*', 'x', ['*', ['^', 'y', ['-', 'x', 1]], 0]]]\n",
            "['*', ['^', 'y', 'x'], ['*', 1, ['ln', 'y']]]\n",
            "['*', 1, ['ln', 'y']]\n",
            "['*', 'x', ['*', ['^', 'y', ['-', 'x', 1]], 0]]\n",
            "['*', ['^', 'y', ['-', 'x', 1]], 0]\n"
          ],
          "name": "stdout"
        },
        {
          "output_type": "display_data",
          "data": {
            "text/latex": "$${y}^{x}\\cdot 1\\cdot \\ln{y}+x\\cdot {y}^{x-1}\\cdot 0$$",
            "text/plain": [
              "<IPython.core.display.Math object>"
            ]
          },
          "metadata": {
            "tags": []
          }
        }
      ]
    },
    {
      "cell_type": "code",
      "metadata": {
        "colab": {
          "base_uri": "https://localhost:8080/",
          "height": 137
        },
        "id": "t9nBduT0n5YZ",
        "outputId": "df92cddc-c6b1-4cfe-c9cd-c50e48186f65"
      },
      "source": [
        "z = (x / (x + 2)).diff(x)\n",
        "z.show()\n",
        "z.simp().show()"
      ],
      "execution_count": 92,
      "outputs": [
        {
          "output_type": "stream",
          "text": [
            "['*', 1, ['+', 'x', 2]]\n",
            "['*', 'x', ['+', 1, 0]]\n"
          ],
          "name": "stdout"
        },
        {
          "output_type": "display_data",
          "data": {
            "text/latex": "$$\\dfrac{1\\cdot \\left(x+2\\right)-x\\cdot \\left(1+0\\right)}{{\\left(x+2\\right)}^{2}}$$",
            "text/plain": [
              "<IPython.core.display.Math object>"
            ]
          },
          "metadata": {
            "tags": []
          }
        },
        {
          "output_type": "display_data",
          "data": {
            "text/latex": "$$\\dfrac{x+2-x}{{\\left(x+2\\right)}^{2}}$$",
            "text/plain": [
              "<IPython.core.display.Math object>"
            ]
          },
          "metadata": {
            "tags": []
          }
        }
      ]
    },
    {
      "cell_type": "code",
      "metadata": {
        "colab": {
          "base_uri": "https://localhost:8080/",
          "height": 86
        },
        "id": "qxomeUKRrzZq",
        "outputId": "2c86dedf-4080-493f-b1b0-fda08d1607f5"
      },
      "source": [
        "z = Expression(5)/Expression(16)\n",
        "z.show()\n",
        "z.simp().show()"
      ],
      "execution_count": 93,
      "outputs": [
        {
          "output_type": "display_data",
          "data": {
            "text/latex": "$$\\dfrac{5}{16}$$",
            "text/plain": [
              "<IPython.core.display.Math object>"
            ]
          },
          "metadata": {
            "tags": []
          }
        },
        {
          "output_type": "display_data",
          "data": {
            "text/latex": "$$\\dfrac{5}{16}$$",
            "text/plain": [
              "<IPython.core.display.Math object>"
            ]
          },
          "metadata": {
            "tags": []
          }
        }
      ]
    },
    {
      "cell_type": "code",
      "metadata": {
        "colab": {
          "base_uri": "https://localhost:8080/",
          "height": 75
        },
        "id": "pVKfG6YZKQf_",
        "outputId": "3c121aa9-6bdf-4ace-eb82-605f2019339d"
      },
      "source": [
        "z = Expression.sqrt(144*2)\n",
        "z.show()\n",
        "z.simp().show()"
      ],
      "execution_count": 94,
      "outputs": [
        {
          "output_type": "display_data",
          "data": {
            "text/latex": "$$\\sqrt{288}$$",
            "text/plain": [
              "<IPython.core.display.Math object>"
            ]
          },
          "metadata": {
            "tags": []
          }
        },
        {
          "output_type": "stream",
          "text": [
            "['*', 12, ['sqrt', 2]]\n"
          ],
          "name": "stdout"
        },
        {
          "output_type": "display_data",
          "data": {
            "text/latex": "$$12\\cdot \\sqrt{2}$$",
            "text/plain": [
              "<IPython.core.display.Math object>"
            ]
          },
          "metadata": {
            "tags": []
          }
        }
      ]
    },
    {
      "cell_type": "code",
      "metadata": {
        "colab": {
          "base_uri": "https://localhost:8080/"
        },
        "id": "Y4CD8n3DBD1Y",
        "outputId": "76f0d20a-c05e-410b-e434-ca8c46198e23"
      },
      "source": [
        "Factor(288)"
      ],
      "execution_count": 95,
      "outputs": [
        {
          "output_type": "execute_result",
          "data": {
            "text/plain": [
              "[2, 2, 2, 2, 2, 3, 3]"
            ]
          },
          "metadata": {
            "tags": []
          },
          "execution_count": 95
        }
      ]
    },
    {
      "cell_type": "code",
      "metadata": {
        "colab": {
          "base_uri": "https://localhost:8080/"
        },
        "id": "ebKbYUcABGaD",
        "outputId": "260a889f-174e-4330-c681-8df8056f862d"
      },
      "source": [
        "Max_Factor(288)"
      ],
      "execution_count": 96,
      "outputs": [
        {
          "output_type": "execute_result",
          "data": {
            "text/plain": [
              "[2, 9, 16]"
            ]
          },
          "metadata": {
            "tags": []
          },
          "execution_count": 96
        }
      ]
    },
    {
      "cell_type": "code",
      "metadata": {
        "id": "I0zncgiMKtvJ",
        "colab": {
          "base_uri": "https://localhost:8080/",
          "height": 97
        },
        "outputId": "7e1e057e-9908-4235-c400-3425ec11a5ca"
      },
      "source": [
        "z = (x**2)*(x**3)\n",
        "print(z.f)\n",
        "z.show()\n",
        "z.simp().show()"
      ],
      "execution_count": 97,
      "outputs": [
        {
          "output_type": "stream",
          "text": [
            "['*', ['^', 'x', 2], ['^', 'x', 3]]\n",
            "['*', ['^', 'x', 2], ['^', 'x', 3]]\n"
          ],
          "name": "stdout"
        },
        {
          "output_type": "display_data",
          "data": {
            "text/latex": "$${x}^{2}\\cdot {x}^{3}$$",
            "text/plain": [
              "<IPython.core.display.Math object>"
            ]
          },
          "metadata": {
            "tags": []
          }
        },
        {
          "output_type": "display_data",
          "data": {
            "text/latex": "$${x}^{5}$$",
            "text/plain": [
              "<IPython.core.display.Math object>"
            ]
          },
          "metadata": {
            "tags": []
          }
        }
      ]
    },
    {
      "cell_type": "code",
      "metadata": {
        "id": "Q4zsNBiEMCDB",
        "colab": {
          "base_uri": "https://localhost:8080/",
          "height": 95
        },
        "outputId": "633b1507-a943-45e8-8c2c-aee858c2ebab"
      },
      "source": [
        "z = (x**2)/(x**3)\n",
        "print(z.f)\n",
        "z.show()\n",
        "z.simp().show()"
      ],
      "execution_count": 98,
      "outputs": [
        {
          "output_type": "stream",
          "text": [
            "['/', ['^', 'x', 2], ['^', 'x', 3]]\n"
          ],
          "name": "stdout"
        },
        {
          "output_type": "display_data",
          "data": {
            "text/latex": "$$\\dfrac{{x}^{2}}{{x}^{3}}$$",
            "text/plain": [
              "<IPython.core.display.Math object>"
            ]
          },
          "metadata": {
            "tags": []
          }
        },
        {
          "output_type": "display_data",
          "data": {
            "text/latex": "$${x}^{-1}$$",
            "text/plain": [
              "<IPython.core.display.Math object>"
            ]
          },
          "metadata": {
            "tags": []
          }
        }
      ]
    },
    {
      "cell_type": "code",
      "metadata": {
        "id": "5HbCZOfIZCrW",
        "colab": {
          "base_uri": "https://localhost:8080/",
          "height": 82
        },
        "outputId": "0f028244-a82d-46f7-dd24-ea39833cd7b0"
      },
      "source": [
        "z = (x**2)**3\n",
        "print(z.f)\n",
        "z.show()\n",
        "z.simp().show()"
      ],
      "execution_count": 99,
      "outputs": [
        {
          "output_type": "stream",
          "text": [
            "['^', ['^', 'x', 2], 3]\n"
          ],
          "name": "stdout"
        },
        {
          "output_type": "display_data",
          "data": {
            "text/latex": "$${\\left({x}^{2}\\right)}^{3}$$",
            "text/plain": [
              "<IPython.core.display.Math object>"
            ]
          },
          "metadata": {
            "tags": []
          }
        },
        {
          "output_type": "display_data",
          "data": {
            "text/latex": "$${x}^{5}$$",
            "text/plain": [
              "<IPython.core.display.Math object>"
            ]
          },
          "metadata": {
            "tags": []
          }
        }
      ]
    },
    {
      "cell_type": "code",
      "metadata": {
        "colab": {
          "base_uri": "https://localhost:8080/",
          "height": 116
        },
        "id": "P8Y4DgHh5QkT",
        "outputId": "f886382b-d4ed-4b67-b149-e967d21b04bf"
      },
      "source": [
        "z = (x*y)**3\n",
        "print(z.f)\n",
        "z.show()\n",
        "z.simp().show()"
      ],
      "execution_count": 100,
      "outputs": [
        {
          "output_type": "stream",
          "text": [
            "['^', ['*', 'x', 'y'], 3]\n",
            "['*', 'x', 'y']\n"
          ],
          "name": "stdout"
        },
        {
          "output_type": "display_data",
          "data": {
            "text/latex": "$${\\left(x\\cdot y\\right)}^{3}$$",
            "text/plain": [
              "<IPython.core.display.Math object>"
            ]
          },
          "metadata": {
            "tags": []
          }
        },
        {
          "output_type": "stream",
          "text": [
            "['*', ['^', 'x', 3], ['^', 'y', 3]]\n"
          ],
          "name": "stdout"
        },
        {
          "output_type": "display_data",
          "data": {
            "text/latex": "$${x}^{3}\\cdot {y}^{3}$$",
            "text/plain": [
              "<IPython.core.display.Math object>"
            ]
          },
          "metadata": {
            "tags": []
          }
        }
      ]
    },
    {
      "cell_type": "code",
      "metadata": {
        "colab": {
          "base_uri": "https://localhost:8080/",
          "height": 120
        },
        "id": "21BpTBOH60Ir",
        "outputId": "1c3803d0-996d-4f9b-efa5-769489745dfc"
      },
      "source": [
        "z = (x/y)**3\n",
        "print(z.f)\n",
        "z.show()\n",
        "z.simp().show()"
      ],
      "execution_count": 101,
      "outputs": [
        {
          "output_type": "stream",
          "text": [
            "['^', ['/', 'x', 'y'], 3]\n"
          ],
          "name": "stdout"
        },
        {
          "output_type": "display_data",
          "data": {
            "text/latex": "$${\\left(\\dfrac{x}{y}\\right)}^{3}$$",
            "text/plain": [
              "<IPython.core.display.Math object>"
            ]
          },
          "metadata": {
            "tags": []
          }
        },
        {
          "output_type": "display_data",
          "data": {
            "text/latex": "$$\\dfrac{{x}^{3}}{{y}^{3}}$$",
            "text/plain": [
              "<IPython.core.display.Math object>"
            ]
          },
          "metadata": {
            "tags": []
          }
        }
      ]
    },
    {
      "cell_type": "code",
      "metadata": {
        "colab": {
          "base_uri": "https://localhost:8080/",
          "height": 57
        },
        "id": "TUO3T4cB9Rx-",
        "outputId": "9732a4fe-ac0e-4532-ad42-a1fc01993a1a"
      },
      "source": [
        "z = x + y + 3\n",
        "z.show()\n",
        "z.israt()"
      ],
      "execution_count": 102,
      "outputs": [
        {
          "output_type": "display_data",
          "data": {
            "text/latex": "$$x+y+3$$",
            "text/plain": [
              "<IPython.core.display.Math object>"
            ]
          },
          "metadata": {
            "tags": []
          }
        },
        {
          "output_type": "execute_result",
          "data": {
            "text/plain": [
              "True"
            ]
          },
          "metadata": {
            "tags": []
          },
          "execution_count": 102
        }
      ]
    },
    {
      "cell_type": "code",
      "metadata": {
        "colab": {
          "base_uri": "https://localhost:8080/",
          "height": 94
        },
        "id": "h631zYBiLS71",
        "outputId": "7b9b6f18-c199-4440-e17e-5eaef621d389"
      },
      "source": [
        "z = Expression(3) * Expression(3) + Expression(3)\n",
        "print(z.f)\n",
        "z.show()\n",
        "z.simp().show()"
      ],
      "execution_count": 103,
      "outputs": [
        {
          "output_type": "stream",
          "text": [
            "['+', ['*', 3, 3], 3]\n",
            "['*', 3, 3]\n"
          ],
          "name": "stdout"
        },
        {
          "output_type": "display_data",
          "data": {
            "text/latex": "$$3\\cdot 3+3$$",
            "text/plain": [
              "<IPython.core.display.Math object>"
            ]
          },
          "metadata": {
            "tags": []
          }
        },
        {
          "output_type": "display_data",
          "data": {
            "text/latex": "$$12$$",
            "text/plain": [
              "<IPython.core.display.Math object>"
            ]
          },
          "metadata": {
            "tags": []
          }
        }
      ]
    },
    {
      "cell_type": "code",
      "metadata": {
        "id": "1o8MlloSMkzp",
        "colab": {
          "base_uri": "https://localhost:8080/",
          "height": 128
        },
        "outputId": "49241972-4d99-4673-d792-96dd3c67452d"
      },
      "source": [
        "z = x + 1\n",
        "print(z)\n",
        "z.show()\n",
        "z.intg(x).show()"
      ],
      "execution_count": 108,
      "outputs": [
        {
          "output_type": "stream",
          "text": [
            "<__main__.Expression object at 0x7fbe9eab1810>\n"
          ],
          "name": "stdout"
        },
        {
          "output_type": "display_data",
          "data": {
            "text/latex": "$$x+1$$",
            "text/plain": [
              "<IPython.core.display.Math object>"
            ]
          },
          "metadata": {
            "tags": []
          }
        },
        {
          "output_type": "stream",
          "text": [
            "['*', ['/', 1, 2], ['^', 'x', 2]]\n",
            "['*', 1, 'x']\n"
          ],
          "name": "stdout"
        },
        {
          "output_type": "display_data",
          "data": {
            "text/latex": "$$\\dfrac{1}{2}\\cdot {x}^{2}+1\\cdot x$$",
            "text/plain": [
              "<IPython.core.display.Math object>"
            ]
          },
          "metadata": {
            "tags": []
          }
        }
      ]
    },
    {
      "cell_type": "code",
      "metadata": {
        "id": "B2mKrmP5FyjC"
      },
      "source": [
        ""
      ],
      "execution_count": 104,
      "outputs": []
    }
  ]
}