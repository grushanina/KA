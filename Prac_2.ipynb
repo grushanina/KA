{
  "nbformat": 4,
  "nbformat_minor": 0,
  "metadata": {
    "colab": {
      "name": "Prac_2.ipynb",
      "provenance": [],
      "collapsed_sections": [],
      "authorship_tag": "ABX9TyMGzSh1y+Zao0G4ilw2vUUd",
      "include_colab_link": true
    },
    "kernelspec": {
      "name": "python3",
      "display_name": "Python 3"
    }
  },
  "cells": [
    {
      "cell_type": "markdown",
      "metadata": {
        "id": "view-in-github",
        "colab_type": "text"
      },
      "source": [
        "<a href=\"https://colab.research.google.com/github/grushanina/KA/blob/main/Prac_2.ipynb\" target=\"_parent\"><img src=\"https://colab.research.google.com/assets/colab-badge.svg\" alt=\"Open In Colab\"/></a>"
      ]
    },
    {
      "cell_type": "code",
      "metadata": {
        "id": "Ox5QPQ891Onf"
      },
      "source": [
        "from IPython.display import display, Math"
      ],
      "execution_count": null,
      "outputs": []
    },
    {
      "cell_type": "code",
      "metadata": {
        "id": "4y8ODxTBo91h"
      },
      "source": [
        "def sign(a):\r\n",
        "  if str(a).isdigit():\r\n",
        "    return '+'\r\n",
        "  else:\r\n",
        "    return '' "
      ],
      "execution_count": null,
      "outputs": []
    },
    {
      "cell_type": "code",
      "metadata": {
        "id": "mJdjSJO_3Nuy"
      },
      "source": [
        "class Polynomial:\r\n",
        "  def __init__(self,a):\r\n",
        "    self.kf = a\r\n",
        "\r\n",
        "\r\n",
        "  def __str__(self):\r\n",
        "    s = ''\r\n",
        "    for i in range(len(self.kf)-1, 0,-1):\r\n",
        "      if self.kf[i] !=0:\r\n",
        "        if self.kf[i] == 1 and i == 1:\r\n",
        "          s += 'x+' \r\n",
        "        elif self.kf[i] == 1:\r\n",
        "          s +=  'x^' + str(i) + sign(self.kf[i-1])\r\n",
        "        elif i == 1:\r\n",
        "          s += str(self.kf[i]) + 'x'+ sign(self.kf[i-1])\r\n",
        "        else:\r\n",
        "          s += str(self.kf[i]) + 'x^' + str(i) + sign(self.kf[i-1])\r\n",
        "    s+=str(self.kf[0])\r\n",
        "    return s\r\n",
        "\r\n",
        "\r\n",
        "  def __add__(self,x):\r\n",
        "    tmp = []\r\n",
        "    if len(self.kf)>len(x.kf):\r\n",
        "      for i in range(len(self.kf)):\r\n",
        "        if i >= len(x.kf):\r\n",
        "          tmp.append(self.kf[i])\r\n",
        "        else:\r\n",
        "          tmp.append(self.kf[i]+x.kf[i])\r\n",
        "    else:\r\n",
        "      for i in range(len(x.kf)):\r\n",
        "        if i >= len(self.kf):\r\n",
        "          tmp.append(x.kf[i])\r\n",
        "        else:\r\n",
        "          tmp.append(self.kf[i]+x.kf[i])\r\n",
        "    return Polynomial(tmp)\r\n",
        "\r\n",
        "\r\n",
        "  def evalf(self,x):\r\n",
        "    result = 0\r\n",
        "    for i in range(len(self.kf)):\r\n",
        "      result += self.kf[i] * (x**i)\r\n",
        "    return result\r\n",
        "  \r\n",
        "\r\n",
        "  def toLatex(self):\r\n",
        "    return(str(self))\r\n",
        "\r\n",
        "\r\n",
        "  def show(self):\r\n",
        "    display(Math(str(self)))\r\n",
        "\r\n",
        "\r\n",
        "  def diff(self):\r\n",
        "    tmp=[]\r\n",
        "    for i in range(len(self.kf)-1, 0,-1):\r\n",
        "      tmp.append(self.kf[i]*i)\r\n",
        "    tmp.reverse()\r\n",
        "    return Polynomial(tmp)"
      ],
      "execution_count": null,
      "outputs": []
    },
    {
      "cell_type": "code",
      "metadata": {
        "colab": {
          "base_uri": "https://localhost:8080/"
        },
        "id": "vp7f6nVAjtML",
        "outputId": "ef2de364-c099-416f-c1a2-7502b0b7b1d0"
      },
      "source": [
        "p = Polynomial([1,2,3,5])\r\n",
        "p1 = Polynomial([1,2,1])\r\n",
        "sum = p+p1\r\n",
        "print(p1)\r\n",
        "print(sum)\r\n"
      ],
      "execution_count": null,
      "outputs": [
        {
          "output_type": "stream",
          "text": [
            "x^2+2x+1\n",
            "5x^3+4x^2+4x+2\n"
          ],
          "name": "stdout"
        }
      ]
    },
    {
      "cell_type": "code",
      "metadata": {
        "colab": {
          "base_uri": "https://localhost:8080/"
        },
        "id": "YHx2UvPGj3oA",
        "outputId": "109385c5-03cb-4985-c74a-0d7580043b9b"
      },
      "source": [
        "p1 = Polynomial([1,2,1])\r\n",
        "print(p1)\r\n",
        "print(p1.evalf(2))"
      ],
      "execution_count": null,
      "outputs": [
        {
          "output_type": "stream",
          "text": [
            "x^2+2x+1\n",
            "9\n"
          ],
          "name": "stdout"
        }
      ]
    },
    {
      "cell_type": "code",
      "metadata": {
        "colab": {
          "base_uri": "https://localhost:8080/",
          "height": 55
        },
        "id": "_19QmIB9omr6",
        "outputId": "af60186a-e730-4ee3-95ff-5b142e9504fb"
      },
      "source": [
        "p = Polynomial([1,2,3,5])\r\n",
        "p1 = Polynomial([1,2,1])\r\n",
        "p2=p1+p\r\n",
        "print(p2.toLatex())\r\n",
        "p2.show()"
      ],
      "execution_count": null,
      "outputs": [
        {
          "output_type": "stream",
          "text": [
            "5x^3+4x^2+4x+2\n"
          ],
          "name": "stdout"
        },
        {
          "output_type": "display_data",
          "data": {
            "text/latex": "$$5x^3+4x^2+4x+2$$",
            "text/plain": [
              "<IPython.core.display.Math object>"
            ]
          },
          "metadata": {
            "tags": []
          }
        }
      ]
    },
    {
      "cell_type": "code",
      "metadata": {
        "colab": {
          "base_uri": "https://localhost:8080/",
          "height": 94
        },
        "id": "u88Ns8WL1WKj",
        "outputId": "96513a91-0363-4949-d74d-a6426b6ca09d"
      },
      "source": [
        "p3 = Polynomial([4,-3,4,5])\r\n",
        "print(p3.show())\r\n",
        "print(p3.diff().show())"
      ],
      "execution_count": null,
      "outputs": [
        {
          "output_type": "display_data",
          "data": {
            "text/latex": "$$5x^3+4x^2-3x+4$$",
            "text/plain": [
              "<IPython.core.display.Math object>"
            ]
          },
          "metadata": {
            "tags": []
          }
        },
        {
          "output_type": "stream",
          "text": [
            "None\n"
          ],
          "name": "stdout"
        },
        {
          "output_type": "display_data",
          "data": {
            "text/latex": "$$15x^2+8x-3$$",
            "text/plain": [
              "<IPython.core.display.Math object>"
            ]
          },
          "metadata": {
            "tags": []
          }
        },
        {
          "output_type": "stream",
          "text": [
            "None\n"
          ],
          "name": "stdout"
        }
      ]
    },
    {
      "cell_type": "code",
      "metadata": {
        "id": "bWG2WNTppErQ"
      },
      "source": [
        "import matplotlib\r\n",
        "import matplotlib.pyplot as plt\r\n",
        "\r\n",
        "def plot(pol, a, b):\r\n",
        "  n = 500\r\n",
        "  dx = (b - a) / n\r\n",
        "  X, Y = [], []\r\n",
        "  for i in range(n + 1):\r\n",
        "    x = a + dx * i\r\n",
        "    y = pol.evalf(x)\r\n",
        "    X.append(x)\r\n",
        "    Y.append(y)\r\n",
        "\r\n",
        "  fig, ax = plt.subplots(figsize=(12, 9))\r\n",
        "  ax.plot(X, Y, color=\"blue\", lw=5)\r\n",
        "  plt.show()"
      ],
      "execution_count": 51,
      "outputs": []
    },
    {
      "cell_type": "code",
      "metadata": {
        "colab": {
          "base_uri": "https://localhost:8080/",
          "height": 592
        },
        "id": "1R0E2sfVR42p",
        "outputId": "314daf6e-c37b-4384-86a0-a10758ba0701"
      },
      "source": [
        "p3 = Polynomial([4,-3,4,5])\r\n",
        "print(p3)\r\n",
        "print(p3.show());\r\n",
        "plot(p3,-20,20)"
      ],
      "execution_count": 52,
      "outputs": [
        {
          "output_type": "stream",
          "text": [
            "5x^3+4x^2-3x+4\n"
          ],
          "name": "stdout"
        },
        {
          "output_type": "display_data",
          "data": {
            "text/latex": "$$5x^3+4x^2-3x+4$$",
            "text/plain": [
              "<IPython.core.display.Math object>"
            ]
          },
          "metadata": {
            "tags": []
          }
        },
        {
          "output_type": "stream",
          "text": [
            "None\n"
          ],
          "name": "stdout"
        },
        {
          "output_type": "display_data",
          "data": {
            "image/png": "[encoded data removed]",
            "text/plain": [
              "<Figure size 864x648 with 1 Axes>"
            ]
          },
          "metadata": {
            "tags": [],
            "needs_background": "light"
          }
        }
      ]
    }
  ]
}